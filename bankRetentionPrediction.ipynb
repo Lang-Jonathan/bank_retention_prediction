{
 "cells": [
  {
   "cell_type": "markdown",
   "id": "better-vienna",
   "metadata": {},
   "source": [
    "# Project description\n",
    "Beta Bank customers are leaving: little by little, chipping away every month. The bankers figured out it’s cheaper to save the existing customers rather than to attract new ones.\n",
    "We need to predict whether a customer will leave the bank soon. You have the data on clients’ past behavior and termination of contracts with the bank.\n",
    "\n",
    "**Tasks:**\n",
    "- Build a model with the maximum possible F1 score. Threshold: 0.59 on test set\n",
    "- Measure the AUC-ROC metric\n",
    "- Compare AUC-ROC with the F1.\n",
    "\n"
   ]
  },
  {
   "cell_type": "markdown",
   "id": "charged-casino",
   "metadata": {},
   "source": [
    "# TOC\n",
    "- [Project description](#Project-description)\n",
    "- [TOC](#TOC)\n",
    "- [1. Data and lib import](#1.-Data-and-lib-import)\n",
    "- [2. Data inspection](#2.-Data-inspection)\n",
    "- [3. Data preprocessing](#3.-Data-preprocessing)\n",
    "    * [3.1. Renaming columns and dropping uneccessary information](#3.1.-Renaming-columns-and-dropping-uneccessary-information)\n",
    "    * [3.1. Filling NA values](#3.1.-Filling-NA-values)\n",
    "    * [3.2. Adjusting datatypes](#3.2.-Adjusting-datatypes)\n",
    "    * [3.3. Outliers](#3.3.-Outliers)\n",
    "    * [3.4. Feature and target selection with feature scaling](#3.4.-Feature-and-target-selection-with-feature-scaling)        \n",
    "    * [3.5. One hot encoding](#3.5.-One-hot-encoding)\n",
    "    * [3.6. Split dataset](#3.6.-Split-dataset)\n",
    "- [4. Model development](#4.-Model-development)\n",
    "    * [4.1. Benchmarking: Imbalanced features](#4.1.-Benchmarking:-Imbalanced-features)\n",
    "        + [4.1.1. Developing functions for benchmarking](#4.1.1.-Developing-functions-for-benchmarking)\n",
    "        + [4.1.2. Model selection: Crossvalidation](#4.1.2.-Model-selection:-Crossvalidation)\n",
    "    * [4.2. Model development balanced features](#4.2.-Model-development-balanced-features)\n",
    "        + [4.2.2. Upsampling](#4.2.2.-Upsampling)\n",
    "        + [4.2.3. Downsampling](#4.2.3.-Downsampling)\n",
    "        + [4.2.3. Class weight adjustments](#4.2.3.-Class-weight-adjustments)\n",
    "        + [4.2.4. Standard model comparison](#4.2.4.-Standard-model-comparison)\n",
    "    * [4.2. Training hyperparameter](#4.2.-Training-hyperparameter)\n",
    "        + [4.2.1. Logistic regression](#4.2.1.-Logistic-regression)\n",
    "            - [4.2.1.1. Randomized grid search](#4.2.1.1.-Randomized-grid-search)\n",
    "            - [4.2.1.2. Grid search with cv](#4.2.1.2.-Grid-search-with-cv)\n",
    "            - [4.2.1.3. Threshold adjustment](#4.2.1.3.-Threshold-adjustment)\n",
    "        + [4.2.2. Random Forest](#4.2.2.-Random-Forest)\n",
    "            - [4.2.2.1. Randomized grid search](#4.2.2.1.-Randomized-grid-search)\n",
    "            - [4.2.2.2. Grid search](#4.2.2.2.-Grid-search)\n",
    "- [5. Conclution](#5.-Conclution)"
   ]
  },
  {
   "cell_type": "code",
   "execution_count": 1,
   "id": "challenging-confirmation",
   "metadata": {},
   "outputs": [],
   "source": [
    "# Activate autocomplete\n",
    "%config Completer.use_jedi = False"
   ]
  },
  {
   "cell_type": "code",
   "execution_count": 2,
   "id": "floral-universal",
   "metadata": {},
   "outputs": [
    {
     "data": {
      "text/html": [
       "<script>\n",
       "var code_show_err = false; \n",
       "var code_toggle_err = function() {\n",
       " var stderrNodes = document.querySelectorAll('[data-mime-type=\"application/vnd.jupyter.stderr\"]')\n",
       " var stderr = Array.from(stderrNodes)\n",
       " if (code_show_err){\n",
       "     stderr.forEach(ele => ele.style.display = 'block');\n",
       " } else {\n",
       "     stderr.forEach(ele => ele.style.display = 'none');\n",
       " }\n",
       " code_show_err = !code_show_err\n",
       "} \n",
       "document.addEventListener('DOMContentLoaded', code_toggle_err);\n",
       "</script>\n",
       "To toggle on/off output_stderr, click <a onclick=\"javascript:code_toggle_err()\">here</a>."
      ],
      "text/plain": [
       "<IPython.core.display.HTML object>"
      ]
     },
     "execution_count": 2,
     "metadata": {},
     "output_type": "execute_result"
    }
   ],
   "source": [
    "# Use the button below to toggle warnings\n",
    "from IPython.display import HTML\n",
    "HTML('''<script>\n",
    "var code_show_err = false; \n",
    "var code_toggle_err = function() {\n",
    " var stderrNodes = document.querySelectorAll('[data-mime-type=\"application/vnd.jupyter.stderr\"]')\n",
    " var stderr = Array.from(stderrNodes)\n",
    " if (code_show_err){\n",
    "     stderr.forEach(ele => ele.style.display = 'block');\n",
    " } else {\n",
    "     stderr.forEach(ele => ele.style.display = 'none');\n",
    " }\n",
    " code_show_err = !code_show_err\n",
    "} \n",
    "document.addEventListener('DOMContentLoaded', code_toggle_err);\n",
    "</script>\n",
    "To toggle on/off output_stderr, click <a onclick=\"javascript:code_toggle_err()\">here</a>.''')"
   ]
  },
  {
   "cell_type": "markdown",
   "id": "functioning-cartridge",
   "metadata": {},
   "source": [
    "# 1. Data and lib import\n",
    "\n"
   ]
  },
  {
   "cell_type": "code",
   "execution_count": 3,
   "id": "distant-album",
   "metadata": {},
   "outputs": [
    {
     "name": "stderr",
     "output_type": "stream",
     "text": [
      "C:\\Users\\JonathanLang\\.conda\\envs\\practicum\\lib\\site-packages\\numpy\\_distributor_init.py:32: UserWarning: loaded more than 1 DLL from .libs:\n",
      "C:\\Users\\JonathanLang\\.conda\\envs\\practicum\\lib\\site-packages\\numpy\\.libs\\libopenblas.PYQHXLVVQ7VESDPUVUADXEVJOBGHJPAY.gfortran-win_amd64.dll\n",
      "C:\\Users\\JonathanLang\\.conda\\envs\\practicum\\lib\\site-packages\\numpy\\.libs\\libopenblas.WCDJNK7YVMPZQ2ME2ZZHJJRJ3JIKNDB7.gfortran-win_amd64.dll\n",
      "  stacklevel=1)\n"
     ]
    },
    {
     "data": {
      "text/html": [
       "<div>\n",
       "<style scoped>\n",
       "    .dataframe tbody tr th:only-of-type {\n",
       "        vertical-align: middle;\n",
       "    }\n",
       "\n",
       "    .dataframe tbody tr th {\n",
       "        vertical-align: top;\n",
       "    }\n",
       "\n",
       "    .dataframe thead th {\n",
       "        text-align: right;\n",
       "    }\n",
       "</style>\n",
       "<table border=\"1\" class=\"dataframe\">\n",
       "  <thead>\n",
       "    <tr style=\"text-align: right;\">\n",
       "      <th></th>\n",
       "      <th>RowNumber</th>\n",
       "      <th>CustomerId</th>\n",
       "      <th>Surname</th>\n",
       "      <th>CreditScore</th>\n",
       "      <th>Geography</th>\n",
       "      <th>Gender</th>\n",
       "      <th>Age</th>\n",
       "      <th>Tenure</th>\n",
       "      <th>Balance</th>\n",
       "      <th>NumOfProducts</th>\n",
       "      <th>HasCrCard</th>\n",
       "      <th>IsActiveMember</th>\n",
       "      <th>EstimatedSalary</th>\n",
       "      <th>Exited</th>\n",
       "    </tr>\n",
       "  </thead>\n",
       "  <tbody>\n",
       "    <tr>\n",
       "      <th>0</th>\n",
       "      <td>1</td>\n",
       "      <td>15634602</td>\n",
       "      <td>Hargrave</td>\n",
       "      <td>619</td>\n",
       "      <td>France</td>\n",
       "      <td>Female</td>\n",
       "      <td>42</td>\n",
       "      <td>2.0</td>\n",
       "      <td>0.00</td>\n",
       "      <td>1</td>\n",
       "      <td>1</td>\n",
       "      <td>1</td>\n",
       "      <td>101348.88</td>\n",
       "      <td>1</td>\n",
       "    </tr>\n",
       "    <tr>\n",
       "      <th>1</th>\n",
       "      <td>2</td>\n",
       "      <td>15647311</td>\n",
       "      <td>Hill</td>\n",
       "      <td>608</td>\n",
       "      <td>Spain</td>\n",
       "      <td>Female</td>\n",
       "      <td>41</td>\n",
       "      <td>1.0</td>\n",
       "      <td>83807.86</td>\n",
       "      <td>1</td>\n",
       "      <td>0</td>\n",
       "      <td>1</td>\n",
       "      <td>112542.58</td>\n",
       "      <td>0</td>\n",
       "    </tr>\n",
       "  </tbody>\n",
       "</table>\n",
       "</div>"
      ],
      "text/plain": [
       "   RowNumber  CustomerId   Surname  CreditScore Geography  Gender  Age  \\\n",
       "0          1    15634602  Hargrave          619    France  Female   42   \n",
       "1          2    15647311      Hill          608     Spain  Female   41   \n",
       "\n",
       "   Tenure   Balance  NumOfProducts  HasCrCard  IsActiveMember  \\\n",
       "0     2.0      0.00              1          1               1   \n",
       "1     1.0  83807.86              1          0               1   \n",
       "\n",
       "   EstimatedSalary  Exited  \n",
       "0        101348.88       1  \n",
       "1        112542.58       0  "
      ]
     },
     "metadata": {},
     "output_type": "display_data"
    }
   ],
   "source": [
    "# Standard libs\n",
    "import warnings\n",
    "from collections import OrderedDict\n",
    "from os.path import isfile\n",
    "\n",
    "# Data manipulating and plotting imports\n",
    "import pandas as pd \n",
    "import numpy as np\n",
    "import matplotlib.pyplot as plt \n",
    "from scipy import stats as st\n",
    "%matplotlib inline\n",
    "\n",
    "# ML import\n",
    "\n",
    "\n",
    "warnings.filterwarnings(\"ignore\")\n",
    "import joblib\n",
    "from sklearn.preprocessing import StandardScaler\n",
    "from sklearn.utils import shuffle\n",
    "from sklearn.utils import resample\n",
    "from sklearn.model_selection import train_test_split\n",
    "from sklearn.model_selection import RandomizedSearchCV\n",
    "from sklearn.model_selection import GridSearchCV\n",
    "from sklearn.model_selection import cross_val_score\n",
    "from sklearn.model_selection import cross_val_predict\n",
    "from sklearn.metrics import accuracy_score\n",
    "from sklearn.metrics import recall_score\n",
    "from sklearn.metrics import precision_score\n",
    "from sklearn.metrics import f1_score\n",
    "from sklearn.metrics import roc_auc_score \n",
    "from sklearn.metrics import roc_curve\n",
    "from sklearn.ensemble import RandomForestClassifier\n",
    "from sklearn.linear_model import LogisticRegression\n",
    "    \n",
    "# Constants\n",
    "RANDOM_STATE = 42\n",
    "\n",
    "try:\n",
    "    df = pd.read_csv('./datasets/Churn.csv')\n",
    "except:\n",
    "    df = pd.read_csv('https://code.s3.yandex.net/datasets/Churn.csv')\n",
    "\n",
    "display(df.head(2))"
   ]
  },
  {
   "cell_type": "markdown",
   "id": "timely-formation",
   "metadata": {},
   "source": [
    "# 2. Data inspection\n",
    "**Data description:**  \n",
    "> **Features:**\n",
    "> - RowNumber — data string index  \n",
    "> - CustomerId — unique customer identifier  \n",
    "> - Surname — surname  \n",
    "> - CreditScore — credit score  \n",
    "> - Geography — country of residence  \n",
    "> - Gender — gender  \n",
    "> - Age — age  \n",
    "> - Tenure — period of maturation for a customer’s fixed deposit (years)  \n",
    "> - Balance — account balance  \n",
    "> - NumOfProducts — number of banking products used by the customer  \n",
    "> - HasCrCard — customer has a credit card  \n",
    "> - IsActiveMember — customer’s activeness  \n",
    "> - EstimatedSalary — estimated salary  \n",
    "\n",
    "> **Target:**  \n",
    "> - Exited — сustomer has left  \n",
    "\n"
   ]
  },
  {
   "cell_type": "code",
   "execution_count": 4,
   "id": "quick-bangkok",
   "metadata": {},
   "outputs": [
    {
     "data": {
      "text/html": [
       "<div>\n",
       "<style scoped>\n",
       "    .dataframe tbody tr th:only-of-type {\n",
       "        vertical-align: middle;\n",
       "    }\n",
       "\n",
       "    .dataframe tbody tr th {\n",
       "        vertical-align: top;\n",
       "    }\n",
       "\n",
       "    .dataframe thead th {\n",
       "        text-align: right;\n",
       "    }\n",
       "</style>\n",
       "<table border=\"1\" class=\"dataframe\">\n",
       "  <thead>\n",
       "    <tr style=\"text-align: right;\">\n",
       "      <th></th>\n",
       "      <th>RowNumber</th>\n",
       "      <th>CustomerId</th>\n",
       "      <th>Surname</th>\n",
       "      <th>CreditScore</th>\n",
       "      <th>Geography</th>\n",
       "      <th>Gender</th>\n",
       "      <th>Age</th>\n",
       "      <th>Tenure</th>\n",
       "      <th>Balance</th>\n",
       "      <th>NumOfProducts</th>\n",
       "      <th>HasCrCard</th>\n",
       "      <th>IsActiveMember</th>\n",
       "      <th>EstimatedSalary</th>\n",
       "      <th>Exited</th>\n",
       "    </tr>\n",
       "  </thead>\n",
       "  <tbody>\n",
       "    <tr>\n",
       "      <th>0</th>\n",
       "      <td>1</td>\n",
       "      <td>15634602</td>\n",
       "      <td>Hargrave</td>\n",
       "      <td>619</td>\n",
       "      <td>France</td>\n",
       "      <td>Female</td>\n",
       "      <td>42</td>\n",
       "      <td>2.0</td>\n",
       "      <td>0.00</td>\n",
       "      <td>1</td>\n",
       "      <td>1</td>\n",
       "      <td>1</td>\n",
       "      <td>101348.88</td>\n",
       "      <td>1</td>\n",
       "    </tr>\n",
       "    <tr>\n",
       "      <th>1</th>\n",
       "      <td>2</td>\n",
       "      <td>15647311</td>\n",
       "      <td>Hill</td>\n",
       "      <td>608</td>\n",
       "      <td>Spain</td>\n",
       "      <td>Female</td>\n",
       "      <td>41</td>\n",
       "      <td>1.0</td>\n",
       "      <td>83807.86</td>\n",
       "      <td>1</td>\n",
       "      <td>0</td>\n",
       "      <td>1</td>\n",
       "      <td>112542.58</td>\n",
       "      <td>0</td>\n",
       "    </tr>\n",
       "    <tr>\n",
       "      <th>2</th>\n",
       "      <td>3</td>\n",
       "      <td>15619304</td>\n",
       "      <td>Onio</td>\n",
       "      <td>502</td>\n",
       "      <td>France</td>\n",
       "      <td>Female</td>\n",
       "      <td>42</td>\n",
       "      <td>8.0</td>\n",
       "      <td>159660.80</td>\n",
       "      <td>3</td>\n",
       "      <td>1</td>\n",
       "      <td>0</td>\n",
       "      <td>113931.57</td>\n",
       "      <td>1</td>\n",
       "    </tr>\n",
       "    <tr>\n",
       "      <th>3</th>\n",
       "      <td>4</td>\n",
       "      <td>15701354</td>\n",
       "      <td>Boni</td>\n",
       "      <td>699</td>\n",
       "      <td>France</td>\n",
       "      <td>Female</td>\n",
       "      <td>39</td>\n",
       "      <td>1.0</td>\n",
       "      <td>0.00</td>\n",
       "      <td>2</td>\n",
       "      <td>0</td>\n",
       "      <td>0</td>\n",
       "      <td>93826.63</td>\n",
       "      <td>0</td>\n",
       "    </tr>\n",
       "    <tr>\n",
       "      <th>4</th>\n",
       "      <td>5</td>\n",
       "      <td>15737888</td>\n",
       "      <td>Mitchell</td>\n",
       "      <td>850</td>\n",
       "      <td>Spain</td>\n",
       "      <td>Female</td>\n",
       "      <td>43</td>\n",
       "      <td>2.0</td>\n",
       "      <td>125510.82</td>\n",
       "      <td>1</td>\n",
       "      <td>1</td>\n",
       "      <td>1</td>\n",
       "      <td>79084.10</td>\n",
       "      <td>0</td>\n",
       "    </tr>\n",
       "  </tbody>\n",
       "</table>\n",
       "</div>"
      ],
      "text/plain": [
       "   RowNumber  CustomerId   Surname  CreditScore Geography  Gender  Age  \\\n",
       "0          1    15634602  Hargrave          619    France  Female   42   \n",
       "1          2    15647311      Hill          608     Spain  Female   41   \n",
       "2          3    15619304      Onio          502    France  Female   42   \n",
       "3          4    15701354      Boni          699    France  Female   39   \n",
       "4          5    15737888  Mitchell          850     Spain  Female   43   \n",
       "\n",
       "   Tenure    Balance  NumOfProducts  HasCrCard  IsActiveMember  \\\n",
       "0     2.0       0.00              1          1               1   \n",
       "1     1.0   83807.86              1          0               1   \n",
       "2     8.0  159660.80              3          1               0   \n",
       "3     1.0       0.00              2          0               0   \n",
       "4     2.0  125510.82              1          1               1   \n",
       "\n",
       "   EstimatedSalary  Exited  \n",
       "0        101348.88       1  \n",
       "1        112542.58       0  \n",
       "2        113931.57       1  \n",
       "3         93826.63       0  \n",
       "4         79084.10       0  "
      ]
     },
     "metadata": {},
     "output_type": "display_data"
    },
    {
     "name": "stdout",
     "output_type": "stream",
     "text": [
      "<class 'pandas.core.frame.DataFrame'>\n",
      "RangeIndex: 10000 entries, 0 to 9999\n",
      "Data columns (total 14 columns):\n",
      " #   Column           Non-Null Count  Dtype  \n",
      "---  ------           --------------  -----  \n",
      " 0   RowNumber        10000 non-null  int64  \n",
      " 1   CustomerId       10000 non-null  int64  \n",
      " 2   Surname          10000 non-null  object \n",
      " 3   CreditScore      10000 non-null  int64  \n",
      " 4   Geography        10000 non-null  object \n",
      " 5   Gender           10000 non-null  object \n",
      " 6   Age              10000 non-null  int64  \n",
      " 7   Tenure           9091 non-null   float64\n",
      " 8   Balance          10000 non-null  float64\n",
      " 9   NumOfProducts    10000 non-null  int64  \n",
      " 10  HasCrCard        10000 non-null  int64  \n",
      " 11  IsActiveMember   10000 non-null  int64  \n",
      " 12  EstimatedSalary  10000 non-null  float64\n",
      " 13  Exited           10000 non-null  int64  \n",
      "dtypes: float64(3), int64(8), object(3)\n",
      "memory usage: 1.1+ MB\n",
      "None\n"
     ]
    }
   ],
   "source": [
    "display(df.head(5))\n",
    "print(df.info())"
   ]
  },
  {
   "cell_type": "markdown",
   "id": "handled-newman",
   "metadata": {},
   "source": [
    "> **Observations:**  \n",
    "> - Dataframe which contains 10000 entries\n",
    "> - Tenture misses values (909 Values)\n",
    "> - datatypes of Tenture, balance can be converted to int\n",
    "> - Rownumber can be dropped in total because it does not provide addtional information\n",
    "> - 0 in Balance collumn must be investigated, if missing value or not\n",
    "> - Geography and Gender can be categorized or OHE\n",
    "> - Cathegorize Credit score, salery and balance to transfer continous variable to categorical"
   ]
  },
  {
   "cell_type": "code",
   "execution_count": 5,
   "id": "divided-finder",
   "metadata": {},
   "outputs": [
    {
     "data": {
      "text/html": [
       "<div>\n",
       "<style scoped>\n",
       "    .dataframe tbody tr th:only-of-type {\n",
       "        vertical-align: middle;\n",
       "    }\n",
       "\n",
       "    .dataframe tbody tr th {\n",
       "        vertical-align: top;\n",
       "    }\n",
       "\n",
       "    .dataframe thead th {\n",
       "        text-align: right;\n",
       "    }\n",
       "</style>\n",
       "<table border=\"1\" class=\"dataframe\">\n",
       "  <thead>\n",
       "    <tr style=\"text-align: right;\">\n",
       "      <th></th>\n",
       "      <th>CreditScore</th>\n",
       "      <th>Age</th>\n",
       "      <th>Tenure</th>\n",
       "      <th>Balance</th>\n",
       "      <th>NumOfProducts</th>\n",
       "      <th>HasCrCard</th>\n",
       "      <th>IsActiveMember</th>\n",
       "      <th>EstimatedSalary</th>\n",
       "      <th>Exited</th>\n",
       "    </tr>\n",
       "  </thead>\n",
       "  <tbody>\n",
       "    <tr>\n",
       "      <th>count</th>\n",
       "      <td>10000.000000</td>\n",
       "      <td>10000.000000</td>\n",
       "      <td>9091.000000</td>\n",
       "      <td>10000.000000</td>\n",
       "      <td>10000.000000</td>\n",
       "      <td>10000.00000</td>\n",
       "      <td>10000.000000</td>\n",
       "      <td>10000.000000</td>\n",
       "      <td>10000.000000</td>\n",
       "    </tr>\n",
       "    <tr>\n",
       "      <th>mean</th>\n",
       "      <td>650.528800</td>\n",
       "      <td>38.921800</td>\n",
       "      <td>4.997690</td>\n",
       "      <td>76485.889288</td>\n",
       "      <td>1.530200</td>\n",
       "      <td>0.70550</td>\n",
       "      <td>0.515100</td>\n",
       "      <td>100090.239881</td>\n",
       "      <td>0.203700</td>\n",
       "    </tr>\n",
       "    <tr>\n",
       "      <th>std</th>\n",
       "      <td>96.653299</td>\n",
       "      <td>10.487806</td>\n",
       "      <td>2.894723</td>\n",
       "      <td>62397.405202</td>\n",
       "      <td>0.581654</td>\n",
       "      <td>0.45584</td>\n",
       "      <td>0.499797</td>\n",
       "      <td>57510.492818</td>\n",
       "      <td>0.402769</td>\n",
       "    </tr>\n",
       "    <tr>\n",
       "      <th>min</th>\n",
       "      <td>350.000000</td>\n",
       "      <td>18.000000</td>\n",
       "      <td>0.000000</td>\n",
       "      <td>0.000000</td>\n",
       "      <td>1.000000</td>\n",
       "      <td>0.00000</td>\n",
       "      <td>0.000000</td>\n",
       "      <td>11.580000</td>\n",
       "      <td>0.000000</td>\n",
       "    </tr>\n",
       "    <tr>\n",
       "      <th>25%</th>\n",
       "      <td>584.000000</td>\n",
       "      <td>32.000000</td>\n",
       "      <td>2.000000</td>\n",
       "      <td>0.000000</td>\n",
       "      <td>1.000000</td>\n",
       "      <td>0.00000</td>\n",
       "      <td>0.000000</td>\n",
       "      <td>51002.110000</td>\n",
       "      <td>0.000000</td>\n",
       "    </tr>\n",
       "    <tr>\n",
       "      <th>50%</th>\n",
       "      <td>652.000000</td>\n",
       "      <td>37.000000</td>\n",
       "      <td>5.000000</td>\n",
       "      <td>97198.540000</td>\n",
       "      <td>1.000000</td>\n",
       "      <td>1.00000</td>\n",
       "      <td>1.000000</td>\n",
       "      <td>100193.915000</td>\n",
       "      <td>0.000000</td>\n",
       "    </tr>\n",
       "    <tr>\n",
       "      <th>75%</th>\n",
       "      <td>718.000000</td>\n",
       "      <td>44.000000</td>\n",
       "      <td>7.000000</td>\n",
       "      <td>127644.240000</td>\n",
       "      <td>2.000000</td>\n",
       "      <td>1.00000</td>\n",
       "      <td>1.000000</td>\n",
       "      <td>149388.247500</td>\n",
       "      <td>0.000000</td>\n",
       "    </tr>\n",
       "    <tr>\n",
       "      <th>max</th>\n",
       "      <td>850.000000</td>\n",
       "      <td>92.000000</td>\n",
       "      <td>10.000000</td>\n",
       "      <td>250898.090000</td>\n",
       "      <td>4.000000</td>\n",
       "      <td>1.00000</td>\n",
       "      <td>1.000000</td>\n",
       "      <td>199992.480000</td>\n",
       "      <td>1.000000</td>\n",
       "    </tr>\n",
       "  </tbody>\n",
       "</table>\n",
       "</div>"
      ],
      "text/plain": [
       "        CreditScore           Age       Tenure        Balance  NumOfProducts  \\\n",
       "count  10000.000000  10000.000000  9091.000000   10000.000000   10000.000000   \n",
       "mean     650.528800     38.921800     4.997690   76485.889288       1.530200   \n",
       "std       96.653299     10.487806     2.894723   62397.405202       0.581654   \n",
       "min      350.000000     18.000000     0.000000       0.000000       1.000000   \n",
       "25%      584.000000     32.000000     2.000000       0.000000       1.000000   \n",
       "50%      652.000000     37.000000     5.000000   97198.540000       1.000000   \n",
       "75%      718.000000     44.000000     7.000000  127644.240000       2.000000   \n",
       "max      850.000000     92.000000    10.000000  250898.090000       4.000000   \n",
       "\n",
       "         HasCrCard  IsActiveMember  EstimatedSalary        Exited  \n",
       "count  10000.00000    10000.000000     10000.000000  10000.000000  \n",
       "mean       0.70550        0.515100    100090.239881      0.203700  \n",
       "std        0.45584        0.499797     57510.492818      0.402769  \n",
       "min        0.00000        0.000000        11.580000      0.000000  \n",
       "25%        0.00000        0.000000     51002.110000      0.000000  \n",
       "50%        1.00000        1.000000    100193.915000      0.000000  \n",
       "75%        1.00000        1.000000    149388.247500      0.000000  \n",
       "max        1.00000        1.000000    199992.480000      1.000000  "
      ]
     },
     "metadata": {},
     "output_type": "display_data"
    },
    {
     "name": "stdout",
     "output_type": "stream",
     "text": [
      "> Num of balance equal zero: 3617\n"
     ]
    }
   ],
   "source": [
    "# Exclude RowNumber and CustomerId becuse they do not matter in this step\n",
    "display(df.drop(['RowNumber', 'CustomerId'], axis=1).describe())\n",
    "print('> Num of balance equal zero:', (df.Balance== 0.0).sum())"
   ]
  },
  {
   "cell_type": "markdown",
   "id": "shared-polyester",
   "metadata": {},
   "source": [
    "> **Observations:**  \n",
    "> - 36% of the Balance entries are 0, further investigation needed, talk with data engineer about data aggregation. But for this project in the first hand, they are taken as real, valid data. If the Model quality is low, we might need to fill them based on \n",
    "> - credit score, age, tenture, balance and numofproducts contain outliers\n",
    "> - only 20.37% of the targets Exited -> Imbalanced"
   ]
  },
  {
   "cell_type": "markdown",
   "id": "found-protection",
   "metadata": {},
   "source": [
    "# 3. Data preprocessing\n",
    "> In the data preprocessing of the data the following steps need to be carried out:  \n",
    "> **EDA:**     \n",
    "> - Fill missing values  \n",
    "> - Investigate outliers and take measures if neccessary\n",
    "> - Adjusting datatypes\n",
    "\n",
    "> **Machine learning**\n",
    "> - Feature Scaling  \n",
    "> - Investigate balance of classes:  \n",
    "> - Sampling sizes (over/undersampled)  \n",
    "> - Splitting dataset\n"
   ]
  },
  {
   "cell_type": "markdown",
   "id": "powerful-chuck",
   "metadata": {},
   "source": [
    "## 3.1. Renaming columns and dropping uneccessary information\n",
    "> - To ease further processing, more intuitive column names have been choosen\n",
    "> - RowNumber has been dropped because it does not provide any information.\n",
    "> - Surname has been dropped because the identification is aready possible via the id"
   ]
  },
  {
   "cell_type": "code",
   "execution_count": 6,
   "id": "continent-opportunity",
   "metadata": {},
   "outputs": [],
   "source": [
    "# dropping RowNumber\n",
    "df.drop(['RowNumber', 'Surname', 'CustomerId'], inplace=True, axis=1)\n",
    "\n",
    "# replace column names\n",
    "col_names = ['credit_score', 'country', 'sex', 'age', 'tenure', \n",
    "             'balance', 'products', 'has_card', 'active',\n",
    "             'estimated_salary', 'exited']\n",
    "df.columns = col_names"
   ]
  },
  {
   "cell_type": "markdown",
   "id": "expensive-omega",
   "metadata": {},
   "source": [
    "## 3.1. Filling NA values\n",
    "> Because around 9% of values are missing for the tenure duration, it is too much to drop. therefore the strategy for filling has been determinated and executed."
   ]
  },
  {
   "cell_type": "code",
   "execution_count": 7,
   "id": "located-result",
   "metadata": {},
   "outputs": [
    {
     "data": {
      "image/png": "[encoded data removed]",
      "text/plain": [
       "<Figure size 432x288 with 1 Axes>"
      ]
     },
     "metadata": {
      "needs_background": "light"
     },
     "output_type": "display_data"
    }
   ],
   "source": [
    "# Plotting distribution of tenure\n",
    "ax = df.groupby('tenure').agg(quantity = ('tenure', 'count')) \\\n",
    "       .plot(kind='bar')\n",
    "ax.set_title('Distribution tenure vals')\n",
    "ax.set_ylabel('count')\n",
    "ax.grid()"
   ]
  },
  {
   "cell_type": "markdown",
   "id": "mineral-princeton",
   "metadata": {},
   "source": [
    "> No obvious conspicuousness in distribution"
   ]
  },
  {
   "cell_type": "code",
   "execution_count": 8,
   "id": "compressed-recovery",
   "metadata": {},
   "outputs": [
    {
     "name": "stdout",
     "output_type": "stream",
     "text": [
      "Overview NaN values\n"
     ]
    },
    {
     "data": {
      "text/html": [
       "<div>\n",
       "<style scoped>\n",
       "    .dataframe tbody tr th:only-of-type {\n",
       "        vertical-align: middle;\n",
       "    }\n",
       "\n",
       "    .dataframe tbody tr th {\n",
       "        vertical-align: top;\n",
       "    }\n",
       "\n",
       "    .dataframe thead th {\n",
       "        text-align: right;\n",
       "    }\n",
       "</style>\n",
       "<table border=\"1\" class=\"dataframe\">\n",
       "  <thead>\n",
       "    <tr style=\"text-align: right;\">\n",
       "      <th></th>\n",
       "      <th>credit_score</th>\n",
       "      <th>age</th>\n",
       "      <th>tenure</th>\n",
       "      <th>balance</th>\n",
       "      <th>products</th>\n",
       "      <th>has_card</th>\n",
       "      <th>active</th>\n",
       "      <th>estimated_salary</th>\n",
       "      <th>exited</th>\n",
       "    </tr>\n",
       "  </thead>\n",
       "  <tbody>\n",
       "    <tr>\n",
       "      <th>count</th>\n",
       "      <td>909.000000</td>\n",
       "      <td>909.000000</td>\n",
       "      <td>0.0</td>\n",
       "      <td>909.000000</td>\n",
       "      <td>909.000000</td>\n",
       "      <td>909.000000</td>\n",
       "      <td>909.000000</td>\n",
       "      <td>909.000000</td>\n",
       "      <td>909.000000</td>\n",
       "    </tr>\n",
       "    <tr>\n",
       "      <th>mean</th>\n",
       "      <td>648.451045</td>\n",
       "      <td>38.647965</td>\n",
       "      <td>NaN</td>\n",
       "      <td>76117.341474</td>\n",
       "      <td>1.530253</td>\n",
       "      <td>0.710671</td>\n",
       "      <td>0.510451</td>\n",
       "      <td>99180.389373</td>\n",
       "      <td>0.201320</td>\n",
       "    </tr>\n",
       "    <tr>\n",
       "      <th>std</th>\n",
       "      <td>99.079381</td>\n",
       "      <td>9.785438</td>\n",
       "      <td>NaN</td>\n",
       "      <td>63105.690715</td>\n",
       "      <td>0.588452</td>\n",
       "      <td>0.453701</td>\n",
       "      <td>0.500166</td>\n",
       "      <td>56378.063765</td>\n",
       "      <td>0.401207</td>\n",
       "    </tr>\n",
       "    <tr>\n",
       "      <th>min</th>\n",
       "      <td>359.000000</td>\n",
       "      <td>18.000000</td>\n",
       "      <td>NaN</td>\n",
       "      <td>0.000000</td>\n",
       "      <td>1.000000</td>\n",
       "      <td>0.000000</td>\n",
       "      <td>0.000000</td>\n",
       "      <td>106.670000</td>\n",
       "      <td>0.000000</td>\n",
       "    </tr>\n",
       "    <tr>\n",
       "      <th>25%</th>\n",
       "      <td>580.000000</td>\n",
       "      <td>32.000000</td>\n",
       "      <td>NaN</td>\n",
       "      <td>0.000000</td>\n",
       "      <td>1.000000</td>\n",
       "      <td>0.000000</td>\n",
       "      <td>0.000000</td>\n",
       "      <td>49872.330000</td>\n",
       "      <td>0.000000</td>\n",
       "    </tr>\n",
       "    <tr>\n",
       "      <th>50%</th>\n",
       "      <td>647.000000</td>\n",
       "      <td>37.000000</td>\n",
       "      <td>NaN</td>\n",
       "      <td>96674.550000</td>\n",
       "      <td>1.000000</td>\n",
       "      <td>1.000000</td>\n",
       "      <td>1.000000</td>\n",
       "      <td>99444.020000</td>\n",
       "      <td>0.000000</td>\n",
       "    </tr>\n",
       "    <tr>\n",
       "      <th>75%</th>\n",
       "      <td>718.000000</td>\n",
       "      <td>43.000000</td>\n",
       "      <td>NaN</td>\n",
       "      <td>128554.980000</td>\n",
       "      <td>2.000000</td>\n",
       "      <td>1.000000</td>\n",
       "      <td>1.000000</td>\n",
       "      <td>145759.700000</td>\n",
       "      <td>0.000000</td>\n",
       "    </tr>\n",
       "    <tr>\n",
       "      <th>max</th>\n",
       "      <td>850.000000</td>\n",
       "      <td>92.000000</td>\n",
       "      <td>NaN</td>\n",
       "      <td>206663.750000</td>\n",
       "      <td>4.000000</td>\n",
       "      <td>1.000000</td>\n",
       "      <td>1.000000</td>\n",
       "      <td>199390.450000</td>\n",
       "      <td>1.000000</td>\n",
       "    </tr>\n",
       "  </tbody>\n",
       "</table>\n",
       "</div>"
      ],
      "text/plain": [
       "       credit_score         age  tenure        balance    products  \\\n",
       "count    909.000000  909.000000     0.0     909.000000  909.000000   \n",
       "mean     648.451045   38.647965     NaN   76117.341474    1.530253   \n",
       "std       99.079381    9.785438     NaN   63105.690715    0.588452   \n",
       "min      359.000000   18.000000     NaN       0.000000    1.000000   \n",
       "25%      580.000000   32.000000     NaN       0.000000    1.000000   \n",
       "50%      647.000000   37.000000     NaN   96674.550000    1.000000   \n",
       "75%      718.000000   43.000000     NaN  128554.980000    2.000000   \n",
       "max      850.000000   92.000000     NaN  206663.750000    4.000000   \n",
       "\n",
       "         has_card      active  estimated_salary      exited  \n",
       "count  909.000000  909.000000        909.000000  909.000000  \n",
       "mean     0.710671    0.510451      99180.389373    0.201320  \n",
       "std      0.453701    0.500166      56378.063765    0.401207  \n",
       "min      0.000000    0.000000        106.670000    0.000000  \n",
       "25%      0.000000    0.000000      49872.330000    0.000000  \n",
       "50%      1.000000    1.000000      99444.020000    0.000000  \n",
       "75%      1.000000    1.000000     145759.700000    0.000000  \n",
       "max      1.000000    1.000000     199390.450000    1.000000  "
      ]
     },
     "metadata": {},
     "output_type": "display_data"
    },
    {
     "name": "stdout",
     "output_type": "stream",
     "text": [
      "Overview total\n"
     ]
    },
    {
     "data": {
      "text/html": [
       "<div>\n",
       "<style scoped>\n",
       "    .dataframe tbody tr th:only-of-type {\n",
       "        vertical-align: middle;\n",
       "    }\n",
       "\n",
       "    .dataframe tbody tr th {\n",
       "        vertical-align: top;\n",
       "    }\n",
       "\n",
       "    .dataframe thead th {\n",
       "        text-align: right;\n",
       "    }\n",
       "</style>\n",
       "<table border=\"1\" class=\"dataframe\">\n",
       "  <thead>\n",
       "    <tr style=\"text-align: right;\">\n",
       "      <th></th>\n",
       "      <th>credit_score</th>\n",
       "      <th>age</th>\n",
       "      <th>tenure</th>\n",
       "      <th>balance</th>\n",
       "      <th>products</th>\n",
       "      <th>has_card</th>\n",
       "      <th>active</th>\n",
       "      <th>estimated_salary</th>\n",
       "      <th>exited</th>\n",
       "    </tr>\n",
       "  </thead>\n",
       "  <tbody>\n",
       "    <tr>\n",
       "      <th>count</th>\n",
       "      <td>10000.000000</td>\n",
       "      <td>10000.000000</td>\n",
       "      <td>9091.000000</td>\n",
       "      <td>10000.000000</td>\n",
       "      <td>10000.000000</td>\n",
       "      <td>10000.00000</td>\n",
       "      <td>10000.000000</td>\n",
       "      <td>10000.000000</td>\n",
       "      <td>10000.000000</td>\n",
       "    </tr>\n",
       "    <tr>\n",
       "      <th>mean</th>\n",
       "      <td>650.528800</td>\n",
       "      <td>38.921800</td>\n",
       "      <td>4.997690</td>\n",
       "      <td>76485.889288</td>\n",
       "      <td>1.530200</td>\n",
       "      <td>0.70550</td>\n",
       "      <td>0.515100</td>\n",
       "      <td>100090.239881</td>\n",
       "      <td>0.203700</td>\n",
       "    </tr>\n",
       "    <tr>\n",
       "      <th>std</th>\n",
       "      <td>96.653299</td>\n",
       "      <td>10.487806</td>\n",
       "      <td>2.894723</td>\n",
       "      <td>62397.405202</td>\n",
       "      <td>0.581654</td>\n",
       "      <td>0.45584</td>\n",
       "      <td>0.499797</td>\n",
       "      <td>57510.492818</td>\n",
       "      <td>0.402769</td>\n",
       "    </tr>\n",
       "    <tr>\n",
       "      <th>min</th>\n",
       "      <td>350.000000</td>\n",
       "      <td>18.000000</td>\n",
       "      <td>0.000000</td>\n",
       "      <td>0.000000</td>\n",
       "      <td>1.000000</td>\n",
       "      <td>0.00000</td>\n",
       "      <td>0.000000</td>\n",
       "      <td>11.580000</td>\n",
       "      <td>0.000000</td>\n",
       "    </tr>\n",
       "    <tr>\n",
       "      <th>25%</th>\n",
       "      <td>584.000000</td>\n",
       "      <td>32.000000</td>\n",
       "      <td>2.000000</td>\n",
       "      <td>0.000000</td>\n",
       "      <td>1.000000</td>\n",
       "      <td>0.00000</td>\n",
       "      <td>0.000000</td>\n",
       "      <td>51002.110000</td>\n",
       "      <td>0.000000</td>\n",
       "    </tr>\n",
       "    <tr>\n",
       "      <th>50%</th>\n",
       "      <td>652.000000</td>\n",
       "      <td>37.000000</td>\n",
       "      <td>5.000000</td>\n",
       "      <td>97198.540000</td>\n",
       "      <td>1.000000</td>\n",
       "      <td>1.00000</td>\n",
       "      <td>1.000000</td>\n",
       "      <td>100193.915000</td>\n",
       "      <td>0.000000</td>\n",
       "    </tr>\n",
       "    <tr>\n",
       "      <th>75%</th>\n",
       "      <td>718.000000</td>\n",
       "      <td>44.000000</td>\n",
       "      <td>7.000000</td>\n",
       "      <td>127644.240000</td>\n",
       "      <td>2.000000</td>\n",
       "      <td>1.00000</td>\n",
       "      <td>1.000000</td>\n",
       "      <td>149388.247500</td>\n",
       "      <td>0.000000</td>\n",
       "    </tr>\n",
       "    <tr>\n",
       "      <th>max</th>\n",
       "      <td>850.000000</td>\n",
       "      <td>92.000000</td>\n",
       "      <td>10.000000</td>\n",
       "      <td>250898.090000</td>\n",
       "      <td>4.000000</td>\n",
       "      <td>1.00000</td>\n",
       "      <td>1.000000</td>\n",
       "      <td>199992.480000</td>\n",
       "      <td>1.000000</td>\n",
       "    </tr>\n",
       "  </tbody>\n",
       "</table>\n",
       "</div>"
      ],
      "text/plain": [
       "       credit_score           age       tenure        balance      products  \\\n",
       "count  10000.000000  10000.000000  9091.000000   10000.000000  10000.000000   \n",
       "mean     650.528800     38.921800     4.997690   76485.889288      1.530200   \n",
       "std       96.653299     10.487806     2.894723   62397.405202      0.581654   \n",
       "min      350.000000     18.000000     0.000000       0.000000      1.000000   \n",
       "25%      584.000000     32.000000     2.000000       0.000000      1.000000   \n",
       "50%      652.000000     37.000000     5.000000   97198.540000      1.000000   \n",
       "75%      718.000000     44.000000     7.000000  127644.240000      2.000000   \n",
       "max      850.000000     92.000000    10.000000  250898.090000      4.000000   \n",
       "\n",
       "          has_card        active  estimated_salary        exited  \n",
       "count  10000.00000  10000.000000      10000.000000  10000.000000  \n",
       "mean       0.70550      0.515100     100090.239881      0.203700  \n",
       "std        0.45584      0.499797      57510.492818      0.402769  \n",
       "min        0.00000      0.000000         11.580000      0.000000  \n",
       "25%        0.00000      0.000000      51002.110000      0.000000  \n",
       "50%        1.00000      1.000000     100193.915000      0.000000  \n",
       "75%        1.00000      1.000000     149388.247500      0.000000  \n",
       "max        1.00000      1.000000     199992.480000      1.000000  "
      ]
     },
     "metadata": {},
     "output_type": "display_data"
    }
   ],
   "source": [
    "# Getting an overview over NAN values\n",
    "print('Overview NaN values')\n",
    "display(df[df['tenure'].isna()==True].describe())\n",
    "print('Overview total')\n",
    "display(df.describe())"
   ]
  },
  {
   "cell_type": "markdown",
   "id": "driving-array",
   "metadata": {},
   "source": [
    "> Checking distributions of numerical values in order to check distibutions, visually and with ttest.    \n",
    "> Hypothesis for ttest:  \n",
    "> H0: The Variances can be considred the same  \n",
    "> H1: The variances can not be considered the same  \n",
    "> Significance niveau: 0.05"
   ]
  },
  {
   "cell_type": "code",
   "execution_count": 9,
   "id": "complicated-banks",
   "metadata": {},
   "outputs": [
    {
     "data": {
      "image/png": "[encoded data removed]",
      "text/plain": [
       "<Figure size 432x288 with 1 Axes>"
      ]
     },
     "metadata": {
      "needs_background": "light"
     },
     "output_type": "display_data"
    },
    {
     "data": {
      "image/png": "[encoded data removed]",
      "text/plain": [
       "<Figure size 432x288 with 1 Axes>"
      ]
     },
     "metadata": {
      "needs_background": "light"
     },
     "output_type": "display_data"
    },
    {
     "data": {
      "image/png": "[encoded data removed]",
      "text/plain": [
       "<Figure size 432x288 with 1 Axes>"
      ]
     },
     "metadata": {
      "needs_background": "light"
     },
     "output_type": "display_data"
    },
    {
     "data": {
      "image/png": "[encoded data removed]",
      "text/plain": [
       "<Figure size 432x288 with 1 Axes>"
      ]
     },
     "metadata": {
      "needs_background": "light"
     },
     "output_type": "display_data"
    },
    {
     "data": {
      "image/png": "[encoded data removed]",
      "text/plain": [
       "<Figure size 432x288 with 1 Axes>"
      ]
     },
     "metadata": {
      "needs_background": "light"
     },
     "output_type": "display_data"
    },
    {
     "data": {
      "image/png": "[encoded data removed]",
      "text/plain": [
       "<Figure size 432x288 with 1 Axes>"
      ]
     },
     "metadata": {
      "needs_background": "light"
     },
     "output_type": "display_data"
    },
    {
     "data": {
      "image/png": "[encoded data removed]",
      "text/plain": [
       "<Figure size 432x288 with 1 Axes>"
      ]
     },
     "metadata": {
      "needs_background": "light"
     },
     "output_type": "display_data"
    },
    {
     "data": {
      "image/png": "[encoded data removed]",
      "text/plain": [
       "<Figure size 432x288 with 1 Axes>"
      ]
     },
     "metadata": {
      "needs_background": "light"
     },
     "output_type": "display_data"
    }
   ],
   "source": [
    "df_nan = df.loc[df['tenure'].isna()==True]\n",
    "cols = ['credit_score', 'age', 'balance', 'products', 'has_card',\n",
    "        'active', 'estimated_salary','exited']\n",
    "\n",
    "for idx, col in enumerate(cols):\n",
    "    for sub_df in (df, df_nan): \n",
    "        ax = sub_df[col].plot(kind='hist', alpha=0.2, density=True)\n",
    "    ax.set_title('hist' + ' ' + cols[idx])\n",
    "    ax.legend(('df', 'df_na'))\n",
    "    ax.set_xlabel(col)\n",
    "    ax.set_ylabel('Percentage')\n",
    "    plt.show()"
   ]
  },
  {
   "cell_type": "markdown",
   "id": "upset-argument",
   "metadata": {},
   "source": [
    "> No conspicuousness, distributions can be considered the same for all checked features because pval > alpha"
   ]
  },
  {
   "cell_type": "code",
   "execution_count": 10,
   "id": "every-mouth",
   "metadata": {},
   "outputs": [
    {
     "data": {
      "text/html": [
       "<div>\n",
       "<style scoped>\n",
       "    .dataframe tbody tr th:only-of-type {\n",
       "        vertical-align: middle;\n",
       "    }\n",
       "\n",
       "    .dataframe tbody tr th {\n",
       "        vertical-align: top;\n",
       "    }\n",
       "\n",
       "    .dataframe thead th {\n",
       "        text-align: right;\n",
       "    }\n",
       "</style>\n",
       "<table border=\"1\" class=\"dataframe\">\n",
       "  <thead>\n",
       "    <tr style=\"text-align: right;\">\n",
       "      <th></th>\n",
       "      <th>credit_score</th>\n",
       "      <th>age</th>\n",
       "      <th>tenure</th>\n",
       "      <th>balance</th>\n",
       "      <th>products</th>\n",
       "      <th>has_card</th>\n",
       "      <th>active</th>\n",
       "      <th>estimated_salary</th>\n",
       "      <th>exited</th>\n",
       "    </tr>\n",
       "  </thead>\n",
       "  <tbody>\n",
       "    <tr>\n",
       "      <th>credit_score</th>\n",
       "      <td>1.000000</td>\n",
       "      <td>-0.003965</td>\n",
       "      <td>-0.000062</td>\n",
       "      <td>0.006268</td>\n",
       "      <td>0.012238</td>\n",
       "      <td>-0.005458</td>\n",
       "      <td>0.025651</td>\n",
       "      <td>-0.001384</td>\n",
       "      <td>-0.027094</td>\n",
       "    </tr>\n",
       "    <tr>\n",
       "      <th>age</th>\n",
       "      <td>-0.003965</td>\n",
       "      <td>1.000000</td>\n",
       "      <td>-0.013134</td>\n",
       "      <td>0.028308</td>\n",
       "      <td>-0.030680</td>\n",
       "      <td>-0.011721</td>\n",
       "      <td>0.085472</td>\n",
       "      <td>-0.007201</td>\n",
       "      <td>0.285323</td>\n",
       "    </tr>\n",
       "    <tr>\n",
       "      <th>tenure</th>\n",
       "      <td>-0.000062</td>\n",
       "      <td>-0.013134</td>\n",
       "      <td>1.000000</td>\n",
       "      <td>-0.007911</td>\n",
       "      <td>0.011979</td>\n",
       "      <td>0.027232</td>\n",
       "      <td>-0.032178</td>\n",
       "      <td>0.010520</td>\n",
       "      <td>-0.016761</td>\n",
       "    </tr>\n",
       "    <tr>\n",
       "      <th>balance</th>\n",
       "      <td>0.006268</td>\n",
       "      <td>0.028308</td>\n",
       "      <td>-0.007911</td>\n",
       "      <td>1.000000</td>\n",
       "      <td>-0.304180</td>\n",
       "      <td>-0.014858</td>\n",
       "      <td>-0.010084</td>\n",
       "      <td>0.012797</td>\n",
       "      <td>0.118533</td>\n",
       "    </tr>\n",
       "    <tr>\n",
       "      <th>products</th>\n",
       "      <td>0.012238</td>\n",
       "      <td>-0.030680</td>\n",
       "      <td>0.011979</td>\n",
       "      <td>-0.304180</td>\n",
       "      <td>1.000000</td>\n",
       "      <td>0.003183</td>\n",
       "      <td>0.009612</td>\n",
       "      <td>0.014204</td>\n",
       "      <td>-0.047820</td>\n",
       "    </tr>\n",
       "    <tr>\n",
       "      <th>has_card</th>\n",
       "      <td>-0.005458</td>\n",
       "      <td>-0.011721</td>\n",
       "      <td>0.027232</td>\n",
       "      <td>-0.014858</td>\n",
       "      <td>0.003183</td>\n",
       "      <td>1.000000</td>\n",
       "      <td>-0.011866</td>\n",
       "      <td>-0.009933</td>\n",
       "      <td>-0.007138</td>\n",
       "    </tr>\n",
       "    <tr>\n",
       "      <th>active</th>\n",
       "      <td>0.025651</td>\n",
       "      <td>0.085472</td>\n",
       "      <td>-0.032178</td>\n",
       "      <td>-0.010084</td>\n",
       "      <td>0.009612</td>\n",
       "      <td>-0.011866</td>\n",
       "      <td>1.000000</td>\n",
       "      <td>-0.011421</td>\n",
       "      <td>-0.156128</td>\n",
       "    </tr>\n",
       "    <tr>\n",
       "      <th>estimated_salary</th>\n",
       "      <td>-0.001384</td>\n",
       "      <td>-0.007201</td>\n",
       "      <td>0.010520</td>\n",
       "      <td>0.012797</td>\n",
       "      <td>0.014204</td>\n",
       "      <td>-0.009933</td>\n",
       "      <td>-0.011421</td>\n",
       "      <td>1.000000</td>\n",
       "      <td>0.012097</td>\n",
       "    </tr>\n",
       "    <tr>\n",
       "      <th>exited</th>\n",
       "      <td>-0.027094</td>\n",
       "      <td>0.285323</td>\n",
       "      <td>-0.016761</td>\n",
       "      <td>0.118533</td>\n",
       "      <td>-0.047820</td>\n",
       "      <td>-0.007138</td>\n",
       "      <td>-0.156128</td>\n",
       "      <td>0.012097</td>\n",
       "      <td>1.000000</td>\n",
       "    </tr>\n",
       "  </tbody>\n",
       "</table>\n",
       "</div>"
      ],
      "text/plain": [
       "                  credit_score       age    tenure   balance  products  \\\n",
       "credit_score          1.000000 -0.003965 -0.000062  0.006268  0.012238   \n",
       "age                  -0.003965  1.000000 -0.013134  0.028308 -0.030680   \n",
       "tenure               -0.000062 -0.013134  1.000000 -0.007911  0.011979   \n",
       "balance               0.006268  0.028308 -0.007911  1.000000 -0.304180   \n",
       "products              0.012238 -0.030680  0.011979 -0.304180  1.000000   \n",
       "has_card             -0.005458 -0.011721  0.027232 -0.014858  0.003183   \n",
       "active                0.025651  0.085472 -0.032178 -0.010084  0.009612   \n",
       "estimated_salary     -0.001384 -0.007201  0.010520  0.012797  0.014204   \n",
       "exited               -0.027094  0.285323 -0.016761  0.118533 -0.047820   \n",
       "\n",
       "                  has_card    active  estimated_salary    exited  \n",
       "credit_score     -0.005458  0.025651         -0.001384 -0.027094  \n",
       "age              -0.011721  0.085472         -0.007201  0.285323  \n",
       "tenure            0.027232 -0.032178          0.010520 -0.016761  \n",
       "balance          -0.014858 -0.010084          0.012797  0.118533  \n",
       "products          0.003183  0.009612          0.014204 -0.047820  \n",
       "has_card          1.000000 -0.011866         -0.009933 -0.007138  \n",
       "active           -0.011866  1.000000         -0.011421 -0.156128  \n",
       "estimated_salary -0.009933 -0.011421          1.000000  0.012097  \n",
       "exited           -0.007138 -0.156128          0.012097  1.000000  "
      ]
     },
     "execution_count": 10,
     "metadata": {},
     "output_type": "execute_result"
    }
   ],
   "source": [
    "# Checking for linear correlations to fill in\n",
    "df.corr()"
   ]
  },
  {
   "cell_type": "markdown",
   "id": "fifteen-paraguay",
   "metadata": {},
   "source": [
    "> **Observations:**\n",
    "> - There are no linear correlationsof tenure  \n",
    "> - There is a low correlation between age and the target"
   ]
  },
  {
   "cell_type": "code",
   "execution_count": 11,
   "id": "still-honolulu",
   "metadata": {},
   "outputs": [
    {
     "data": {
      "image/png": "[encoded data removed]",
      "text/plain": [
       "<Figure size 864x288 with 2 Axes>"
      ]
     },
     "metadata": {
      "needs_background": "light"
     },
     "output_type": "display_data"
    },
    {
     "data": {
      "image/png": "[encoded data removed]",
      "text/plain": [
       "<Figure size 1008x288 with 2 Axes>"
      ]
     },
     "metadata": {
      "needs_background": "light"
     },
     "output_type": "display_data"
    }
   ],
   "source": [
    "# Single boxplot grouped by col2 multiple (for cathegorical)\n",
    "df.boxplot(by='tenure', column=['balance', 'estimated_salary'], figsize=(12,4));\n",
    "plt.show()\n",
    "\n",
    "fig, ax = plt.subplots(nrows=1, ncols=2, figsize=(14, 4))\n",
    "plt.subplots_adjust(hspace=0.3)\n",
    "for idx, col in enumerate(['credit_score', 'age']):\n",
    "    df.boxplot(by='tenure', column=col, ax=ax[idx])\n",
    "    "
   ]
  },
  {
   "cell_type": "markdown",
   "id": "purple-royalty",
   "metadata": {},
   "source": [
    "> **Observations:**\n",
    "> - tenture correlates with balance and the age. The values will be filled in based on those 2 factors.\n",
    "> - Also credit score and age contain outiers -> But those are valid values so they will be kept.\n",
    "> - *If there is time, train also withou outliers*"
   ]
  },
  {
   "cell_type": "code",
   "execution_count": 12,
   "id": "wound-weekend",
   "metadata": {},
   "outputs": [],
   "source": [
    "df['tenure'].fillna(\n",
    "    df.groupby(['balance', 'age'])['tenure'].transform(np.mean),\n",
    "    inplace=True\n",
    ")"
   ]
  },
  {
   "cell_type": "code",
   "execution_count": 13,
   "id": "individual-latest",
   "metadata": {},
   "outputs": [
    {
     "name": "stdout",
     "output_type": "stream",
     "text": [
      "<class 'pandas.core.frame.DataFrame'>\n",
      "RangeIndex: 10000 entries, 0 to 9999\n",
      "Data columns (total 11 columns):\n",
      " #   Column            Non-Null Count  Dtype  \n",
      "---  ------            --------------  -----  \n",
      " 0   credit_score      10000 non-null  int64  \n",
      " 1   country           10000 non-null  object \n",
      " 2   sex               10000 non-null  object \n",
      " 3   age               10000 non-null  int64  \n",
      " 4   tenure            9425 non-null   float64\n",
      " 5   balance           10000 non-null  float64\n",
      " 6   products          10000 non-null  int64  \n",
      " 7   has_card          10000 non-null  int64  \n",
      " 8   active            10000 non-null  int64  \n",
      " 9   estimated_salary  10000 non-null  float64\n",
      " 10  exited            10000 non-null  int64  \n",
      "dtypes: float64(3), int64(6), object(2)\n",
      "memory usage: 859.5+ KB\n"
     ]
    }
   ],
   "source": [
    "df.info()"
   ]
  },
  {
   "cell_type": "markdown",
   "id": "collected-irish",
   "metadata": {},
   "source": [
    "> There are still 575 missing values. They will be filled with the mean related to age"
   ]
  },
  {
   "cell_type": "code",
   "execution_count": 14,
   "id": "endless-calvin",
   "metadata": {},
   "outputs": [],
   "source": [
    "df['tenure'].fillna(\n",
    "    df.groupby(['age'])['tenure'].transform(np.mean),\n",
    "    inplace=True\n",
    ")"
   ]
  },
  {
   "cell_type": "code",
   "execution_count": 15,
   "id": "alleged-router",
   "metadata": {},
   "outputs": [
    {
     "name": "stdout",
     "output_type": "stream",
     "text": [
      "<class 'pandas.core.frame.DataFrame'>\n",
      "RangeIndex: 10000 entries, 0 to 9999\n",
      "Data columns (total 11 columns):\n",
      " #   Column            Non-Null Count  Dtype  \n",
      "---  ------            --------------  -----  \n",
      " 0   credit_score      10000 non-null  int64  \n",
      " 1   country           10000 non-null  object \n",
      " 2   sex               10000 non-null  object \n",
      " 3   age               10000 non-null  int64  \n",
      " 4   tenure            10000 non-null  float64\n",
      " 5   balance           10000 non-null  float64\n",
      " 6   products          10000 non-null  int64  \n",
      " 7   has_card          10000 non-null  int64  \n",
      " 8   active            10000 non-null  int64  \n",
      " 9   estimated_salary  10000 non-null  float64\n",
      " 10  exited            10000 non-null  int64  \n",
      "dtypes: float64(3), int64(6), object(2)\n",
      "memory usage: 859.5+ KB\n"
     ]
    }
   ],
   "source": [
    "df.info()"
   ]
  },
  {
   "cell_type": "markdown",
   "id": "damaged-links",
   "metadata": {},
   "source": [
    "> All missing data has been filled"
   ]
  },
  {
   "cell_type": "markdown",
   "id": "cultural-delta",
   "metadata": {},
   "source": [
    "## 3.2. Adjusting datatypes\n",
    "> In this step all floats and int64s have been converted to int32 to speed up later training"
   ]
  },
  {
   "cell_type": "code",
   "execution_count": 16,
   "id": "antique-cabin",
   "metadata": {},
   "outputs": [],
   "source": [
    "# Converting all float and int64 to int32 to speed up later training\n",
    "to_int = ['credit_score', 'age', 'tenure', 'exited',\n",
    "       'balance', 'products', 'has_card', 'active', 'estimated_salary']\n",
    "\n",
    "for col in to_int:\n",
    "    df[col] = df[col].astype(int)"
   ]
  },
  {
   "cell_type": "markdown",
   "id": "capital-contrary",
   "metadata": {},
   "source": [
    "## 3.3. Outliers\n",
    "> In this chapter outliers have been determinated."
   ]
  },
  {
   "cell_type": "code",
   "execution_count": 17,
   "id": "executed-snowboard",
   "metadata": {},
   "outputs": [
    {
     "data": {
      "image/png": "[encoded data removed]",
      "text/plain": [
       "<Figure size 432x288 with 1 Axes>"
      ]
     },
     "metadata": {
      "needs_background": "light"
     },
     "output_type": "display_data"
    }
   ],
   "source": [
    "# Plotiting together due to same range\n",
    "ax = df[['balance', 'estimated_salary']].plot(kind='box');\n",
    "ax.set_title('boxplot balance and salary')\n",
    "ax.set_ylabel('Dollar')\n",
    "plt.show()"
   ]
  },
  {
   "cell_type": "markdown",
   "id": "institutional-section",
   "metadata": {},
   "source": [
    "> **Observations:**\n",
    "> - balance is strong shifted (due to the 0 values)\n",
    "> - In this setup there are no outliers\n",
    "> - 0 can be considered as a true value here, if people have multiple bank accounts, some might be total empty. But here is some talk with the data engineer needed to verify"
   ]
  },
  {
   "cell_type": "code",
   "execution_count": 18,
   "id": "removed-domestic",
   "metadata": {},
   "outputs": [
    {
     "name": "stdout",
     "output_type": "stream",
     "text": [
      "> Num of balance equal zero: 3617\n"
     ]
    },
    {
     "data": {
      "image/png": "[encoded data removed]",
      "text/plain": [
       "<Figure size 432x288 with 1 Axes>"
      ]
     },
     "metadata": {
      "needs_background": "light"
     },
     "output_type": "display_data"
    }
   ],
   "source": [
    "# Checking without 0 accounts\n",
    "print('> Num of balance equal zero:', (df.balance== 0.0).sum())\n",
    "ax = df.query('balance > 0')['balance'].plot(kind='box');\n",
    "ax.set_title('boxplot balance')\n",
    "ax.set_ylabel('Dollar')\n",
    "plt.show()"
   ]
  },
  {
   "cell_type": "code",
   "execution_count": 19,
   "id": "structural-trash",
   "metadata": {},
   "outputs": [
    {
     "data": {
      "image/png": "[encoded data removed]",
      "text/plain": [
       "<Figure size 432x288 with 1 Axes>"
      ]
     },
     "metadata": {
      "needs_background": "light"
     },
     "output_type": "display_data"
    },
    {
     "name": "stdout",
     "output_type": "stream",
     "text": [
      "upper whisker: 919.0\n",
      "lower whisker: 383.0\n"
     ]
    },
    {
     "data": {
      "image/png": "[encoded data removed]",
      "text/plain": [
       "<Figure size 432x288 with 1 Axes>"
      ]
     },
     "metadata": {
      "needs_background": "light"
     },
     "output_type": "display_data"
    },
    {
     "name": "stdout",
     "output_type": "stream",
     "text": [
      "upper whisker: 62.0\n",
      "lower whisker: 14.0\n"
     ]
    }
   ],
   "source": [
    "check_out = ['credit_score', 'age']\n",
    "for idx, col in enumerate(check_out):\n",
    "    ax = df[col].plot(kind='box')\n",
    "    ax.set_ylabel(check_out[idx])\n",
    "    ax.set_title('Boxplot' + check_out[idx])\n",
    "    ax.grid\n",
    "    plt.show()\n",
    "    iqr = df[col].quantile(.75) - df[col].quantile(.25)\n",
    "    low = df[col].quantile(.25) - iqr*1.5\n",
    "    up = df[col].quantile(.75) + iqr*1.5\n",
    "    print(f'upper whisker: {up}\\nlower whisker: {low}')"
   ]
  },
  {
   "cell_type": "markdown",
   "id": "coupled-better",
   "metadata": {},
   "source": [
    "> **Observations:**\n",
    "> - Both age and credit score contain outliers\n",
    "> - Outliers seem to be valid entries, so they have been keept. \n",
    "> - In case of low model quality, the outliers can be removed in order to try to improve the model quality by doing so"
   ]
  },
  {
   "cell_type": "markdown",
   "id": "united-biology",
   "metadata": {},
   "source": [
    "## 3.4. Feature and target selection with feature scaling\n",
    "> The first step of feature and target selection has already been carried out in chapter 2 and 3.1.:  \n",
    "> - In chapter 2 the exit column has been identified as target where as the rest of the columns have been defined as fearures\n",
    "> - In chapter 3.1. the collumns RowNumber, Surname and CustomerId have been dropped because the do not add any usefull information related to the target (Surname, customierId) or the dataframe itself (RowNumber equals index+1)\n",
    "\n",
    "> To improve the expected accuracy of the machine learning model, the numerical data has been scaled. (Even if decision trees might not be to be too influcenced by unscaled data but linear regression for example is.) Those columns are credit_score, balance, age and estimated_salery"
   ]
  },
  {
   "cell_type": "code",
   "execution_count": 20,
   "id": "induced-appreciation",
   "metadata": {},
   "outputs": [
    {
     "name": "stdout",
     "output_type": "stream",
     "text": [
      "target: exited\n",
      "features: ['credit_score', 'country', 'sex', 'age', 'tenure', 'balance', 'products', 'has_card', 'active', 'estimated_salary']\n"
     ]
    }
   ],
   "source": [
    "# Selecting features and target\n",
    "print('target:', df.columns[-1])\n",
    "print('features:', list(df.columns[:-1]))"
   ]
  },
  {
   "cell_type": "code",
   "execution_count": 21,
   "id": "confident-original",
   "metadata": {},
   "outputs": [],
   "source": [
    "# aggregating columns to scale:\n",
    "to_scale = ['credit_score', 'tenure', 'balance', 'products', 'age', 'estimated_salary']\n",
    "\n",
    "# Instance, fit and transform scaler\n",
    "sscaler= StandardScaler()\n",
    "sscaler.fit(df[to_scale])\n",
    "features_scaled = sscaler.transform(df[to_scale])"
   ]
  },
  {
   "cell_type": "code",
   "execution_count": 22,
   "id": "ceramic-madness",
   "metadata": {},
   "outputs": [],
   "source": [
    "# Merge scaled data with rest of df\n",
    "df_scaled = df.copy()\n",
    "for idx, col in enumerate(to_scale):\n",
    "    df_scaled[col] = features_scaled[:, idx]"
   ]
  },
  {
   "cell_type": "markdown",
   "id": "caroline-middle",
   "metadata": {},
   "source": [
    "## 3.5. One hot encoding\n",
    "> Decison trees and linear regression are not able to deal with cathegorical values as long as they are strings. Thus they need to be encoded. This applies for the columns: country and sex  \n",
    "> To not give the algorithm the impression that one conuntry or sex is more important than the other by a higher value (same applies for sex) those features will be one hot encoded and not ordinal encoded. (With the dropfirst argznebt dropfirst = True to avoid the dummy trap)"
   ]
  },
  {
   "cell_type": "code",
   "execution_count": 23,
   "id": "medical-ballet",
   "metadata": {},
   "outputs": [
    {
     "data": {
      "text/html": [
       "<div>\n",
       "<style scoped>\n",
       "    .dataframe tbody tr th:only-of-type {\n",
       "        vertical-align: middle;\n",
       "    }\n",
       "\n",
       "    .dataframe tbody tr th {\n",
       "        vertical-align: top;\n",
       "    }\n",
       "\n",
       "    .dataframe thead th {\n",
       "        text-align: right;\n",
       "    }\n",
       "</style>\n",
       "<table border=\"1\" class=\"dataframe\">\n",
       "  <thead>\n",
       "    <tr style=\"text-align: right;\">\n",
       "      <th></th>\n",
       "      <th>credit_score</th>\n",
       "      <th>age</th>\n",
       "      <th>tenure</th>\n",
       "      <th>balance</th>\n",
       "      <th>products</th>\n",
       "      <th>has_card</th>\n",
       "      <th>active</th>\n",
       "      <th>estimated_salary</th>\n",
       "      <th>exited</th>\n",
       "      <th>country_Germany</th>\n",
       "      <th>country_Spain</th>\n",
       "      <th>sex_Male</th>\n",
       "    </tr>\n",
       "  </thead>\n",
       "  <tbody>\n",
       "    <tr>\n",
       "      <th>0</th>\n",
       "      <td>-0.326221</td>\n",
       "      <td>0.293517</td>\n",
       "      <td>-1.067519</td>\n",
       "      <td>-1.225847</td>\n",
       "      <td>-0.911583</td>\n",
       "      <td>1</td>\n",
       "      <td>1</td>\n",
       "      <td>0.021880</td>\n",
       "      <td>1</td>\n",
       "      <td>0</td>\n",
       "      <td>0</td>\n",
       "      <td>0</td>\n",
       "    </tr>\n",
       "    <tr>\n",
       "      <th>1</th>\n",
       "      <td>-0.440036</td>\n",
       "      <td>0.198164</td>\n",
       "      <td>-1.428789</td>\n",
       "      <td>0.117342</td>\n",
       "      <td>-0.911583</td>\n",
       "      <td>0</td>\n",
       "      <td>1</td>\n",
       "      <td>0.216532</td>\n",
       "      <td>0</td>\n",
       "      <td>0</td>\n",
       "      <td>1</td>\n",
       "      <td>0</td>\n",
       "    </tr>\n",
       "    <tr>\n",
       "      <th>2</th>\n",
       "      <td>-1.536794</td>\n",
       "      <td>0.293517</td>\n",
       "      <td>1.100105</td>\n",
       "      <td>1.333050</td>\n",
       "      <td>2.527057</td>\n",
       "      <td>1</td>\n",
       "      <td>0</td>\n",
       "      <td>0.240686</td>\n",
       "      <td>1</td>\n",
       "      <td>0</td>\n",
       "      <td>0</td>\n",
       "      <td>0</td>\n",
       "    </tr>\n",
       "    <tr>\n",
       "      <th>3</th>\n",
       "      <td>0.501521</td>\n",
       "      <td>0.007457</td>\n",
       "      <td>-1.428789</td>\n",
       "      <td>-1.225847</td>\n",
       "      <td>0.807737</td>\n",
       "      <td>0</td>\n",
       "      <td>0</td>\n",
       "      <td>-0.108920</td>\n",
       "      <td>0</td>\n",
       "      <td>0</td>\n",
       "      <td>0</td>\n",
       "      <td>0</td>\n",
       "    </tr>\n",
       "    <tr>\n",
       "      <th>4</th>\n",
       "      <td>2.063884</td>\n",
       "      <td>0.388871</td>\n",
       "      <td>-1.067519</td>\n",
       "      <td>0.785723</td>\n",
       "      <td>-0.911583</td>\n",
       "      <td>1</td>\n",
       "      <td>1</td>\n",
       "      <td>-0.365269</td>\n",
       "      <td>0</td>\n",
       "      <td>0</td>\n",
       "      <td>1</td>\n",
       "      <td>0</td>\n",
       "    </tr>\n",
       "  </tbody>\n",
       "</table>\n",
       "</div>"
      ],
      "text/plain": [
       "   credit_score       age    tenure   balance  products  has_card  active  \\\n",
       "0     -0.326221  0.293517 -1.067519 -1.225847 -0.911583         1       1   \n",
       "1     -0.440036  0.198164 -1.428789  0.117342 -0.911583         0       1   \n",
       "2     -1.536794  0.293517  1.100105  1.333050  2.527057         1       0   \n",
       "3      0.501521  0.007457 -1.428789 -1.225847  0.807737         0       0   \n",
       "4      2.063884  0.388871 -1.067519  0.785723 -0.911583         1       1   \n",
       "\n",
       "   estimated_salary  exited  country_Germany  country_Spain  sex_Male  \n",
       "0          0.021880       1                0              0         0  \n",
       "1          0.216532       0                0              1         0  \n",
       "2          0.240686       1                0              0         0  \n",
       "3         -0.108920       0                0              0         0  \n",
       "4         -0.365269       0                0              1         0  "
      ]
     },
     "execution_count": 23,
     "metadata": {},
     "output_type": "execute_result"
    }
   ],
   "source": [
    "df_scaled_ohe = pd.get_dummies(df_scaled, drop_first=True)\n",
    "df_scaled_ohe.head(5)"
   ]
  },
  {
   "cell_type": "markdown",
   "id": "peaceful-movement",
   "metadata": {},
   "source": [
    "## 3.6. Split dataset\n",
    "> Splitting the dataset into test and train set. This split is performed because on the reference model the hyperparameters are not tuned and for the proper model cross validation is used. Thus no overfitting during hyperparameter tuning to the evaluation set takes places "
   ]
  },
  {
   "cell_type": "code",
   "execution_count": 24,
   "id": "becoming-medicine",
   "metadata": {},
   "outputs": [],
   "source": [
    "# Definition of features and targets\n",
    "features = df_scaled_ohe.drop(['exited'], axis=1)\n",
    "target = df_scaled_ohe['exited']"
   ]
  },
  {
   "cell_type": "code",
   "execution_count": 25,
   "id": "extreme-union",
   "metadata": {},
   "outputs": [],
   "source": [
    "# Split For unbalanced model\n",
    "X_train, X_test, y_train, y_test = train_test_split(features,\n",
    "                                                   target,\n",
    "                                                    train_size=0.8,\n",
    "                                                    random_state = RANDOM_STATE\n",
    "                                                   )"
   ]
  },
  {
   "cell_type": "code",
   "execution_count": 26,
   "id": "placed-python",
   "metadata": {},
   "outputs": [],
   "source": [
    "# For up and downsampling\n",
    "df_train, df_test = train_test_split(df_scaled_ohe,\n",
    "                                    train_size=0.8,\n",
    "                                    random_state = RANDOM_STATE\n",
    "                                    )"
   ]
  },
  {
   "cell_type": "markdown",
   "id": "prostate-classroom",
   "metadata": {},
   "source": [
    "> **Summary Preprocessing**:\n",
    "> Within the preprocessing the following steps have been carried out:\n",
    "> - Dropping unnecessary collumns\n",
    "> - Renaming the collums to ease working with the df\n",
    "> - Filling in missing values\n",
    "> - Adjusting the datatypes\n",
    "> - Investigate ourliers and their nature\n",
    "> - Identifying features and targets as well as splitting the dataset\n",
    "> - One hot encoding for cathegorical features"
   ]
  },
  {
   "cell_type": "markdown",
   "id": "above-active",
   "metadata": {},
   "source": [
    "# 4. Model development\n",
    "Examine the balance of classes. Train the model without taking into account the imbalance. Briefly describe your findings.\n",
    "Improve the quality of the model. Make sure you use at least two approaches to fixing class imbalance. Use the training set to pick the best parameters. Train different models on training and validation sets. Find the best one. Briefly describe your findings.\n",
    "Perform the final testing.\n",
    "\n",
    "- Build a model with the maximum possible F1 score. Threshold: 0.59 on test set\n",
    "- Measure the AUC-ROC metric\n",
    "- Compare AUC-ROC with the F1.\n",
    "\n",
    "Accuracy is used when the True Positives and True negatives are more important while F1-score is used when the False Negatives and False Positives are crucial\n",
    "Accuracy can be used when the class distribution is similar while F1-score is a better metric when there are imbalanced classes as in the above case."
   ]
  },
  {
   "cell_type": "markdown",
   "id": "suspected-correspondence",
   "metadata": {},
   "source": [
    "## 4.1. Benchmarking: Imbalanced features\n",
    "> In the first step a machine learning model with the imbalanced features has been made. Therefore the prefered algorithm for this task has been determined via crossvalidation.   (80% class0 to 20% class1)\n",
    "> In the folling step models with the tested algorithms have been built and evaluated."
   ]
  },
  {
   "cell_type": "code",
   "execution_count": 27,
   "id": "printable-renewal",
   "metadata": {},
   "outputs": [
    {
     "name": "stdout",
     "output_type": "stream",
     "text": [
      "percentage of class 1 in targets: 20.37%\n"
     ]
    }
   ],
   "source": [
    "print('percentage of class 1 in targets: {:.2%}'.format(target.mean()))"
   ]
  },
  {
   "cell_type": "markdown",
   "id": "welsh-address",
   "metadata": {},
   "source": [
    "### 4.1.1. Developing functions for benchmarking\n",
    "> In this chapter the crucial functions for benchmarking have been implemented. They can be exported to a python script in production"
   ]
  },
  {
   "cell_type": "code",
   "execution_count": 28,
   "id": "legitimate-blood",
   "metadata": {},
   "outputs": [],
   "source": [
    "# Definition of the crucial functions\n",
    "\n",
    "def disp_characteristics_subplots(characteristics, metrics=('accuracy', )):\n",
    "    '''Characteristics:[dict] k[string]: [list of 10 floats]\n",
    "    metrics[iterable]: same metrics then for calculating characteristics'''\n",
    "    for met in metrics:\n",
    "        tmp_data = {k: v for k,v in characteristics.items() if met in k}\n",
    "        n_cols = len(tmp_data) + 1 \n",
    "        fig, ax = plt.subplots(nrows=1, ncols=n_cols, figsize=(14, 4))\n",
    "        \n",
    "        for idx, (k, v) in enumerate(tmp_data.items()):\n",
    "            ax[idx].bar([cv for cv in range(1,11)], v);\n",
    "            ax[idx].grid(True)\n",
    "            ax[idx].set_xlabel('Model of CV iteration')\n",
    "            ax[idx].set_ylabel(met + ' ' + 'score [%]')\n",
    "            title = '10 fold cv' + ' ' + k\n",
    "            ax[idx].set_title(title)\n",
    "            ax[idx].plot([0, 11], [np.mean(v)] * 2,\n",
    "                         color='r', label='mean')\n",
    "            ax[idx].legend()\n",
    "            \n",
    "        for k, v in tmp_data.items():\n",
    "            ax[len(tmp_data)].bar([cv for cv in range(1,11)], v, label=k, alpha=0.4);\n",
    "            ax[len(tmp_data)].set_xlabel('Model of CV iteration')\n",
    "            ax[len(tmp_data)].set_ylabel(met + ' ' + 'score [%]')\n",
    "        title = '10 fold cv scoring:' + ' ' + met\n",
    "        plt.title(title)\n",
    "        plt.legend()\n",
    "                \n",
    "        plt.show()\n",
    "\n",
    "        \n",
    "def det_characteristic(models, X, y, metrics=('accuracy', )):\n",
    "    '''This function carries out the crossvalidation for the given models\n",
    "    with the given evaluation matrics\n",
    "    arguments:\n",
    "        models[dict]: key:modelname, value:name\n",
    "        metrics[iterable]: evaluation metricx\n",
    "    returns\n",
    "        characteristics[dict]: contain the modelnames with the characteristics\n",
    "        cv_models[dict]: contains the 10 subaccuracity during cross validation per model\n",
    "    '''\n",
    "    characteristics = OrderedDict()\n",
    "    cv_models = OrderedDict()\n",
    "    for met in metrics:\n",
    "        for name, model in models.items():\n",
    "            mod_cv = cross_val_score(model,\n",
    "                                    X,\n",
    "                                    y,\n",
    "                                    cv=10,\n",
    "                                    scoring=met)\n",
    "            characteristical = [np.std(mod_cv),\n",
    "                                np.mean(mod_cv),\n",
    "                                min(mod_cv),\n",
    "                                max(mod_cv)]\n",
    "            characteristics.update({\n",
    "                name + '_' + met: characteristical\n",
    "            })    \n",
    "            cv_models.update({\n",
    "                name + '_' + met: mod_cv\n",
    "            })\n",
    "    return (characteristics, cv_models)\n",
    "\n",
    "def create_table(characteristics):\n",
    "    '''Creates characteristical data from dict to pd dataframe'''\n",
    "    characteristics_df = pd.DataFrame(characteristics.values(),\n",
    "                                     index=characteristics.keys(),\n",
    "                                     columns=('std', 'mean', 'min', 'max'))\n",
    "    return characteristics_df"
   ]
  },
  {
   "cell_type": "markdown",
   "id": "affiliated-calculation",
   "metadata": {},
   "source": [
    "### 4.1.2. Model selection: Crossvalidation\n",
    "> In this step a prediction for different algorithms is carried out, to predict which one will perform best. The evaluation has been carried out with the previous implemented functions."
   ]
  },
  {
   "cell_type": "code",
   "execution_count": 29,
   "id": "alien-trauma",
   "metadata": {},
   "outputs": [
    {
     "data": {
      "text/html": [
       "<div>\n",
       "<style scoped>\n",
       "    .dataframe tbody tr th:only-of-type {\n",
       "        vertical-align: middle;\n",
       "    }\n",
       "\n",
       "    .dataframe tbody tr th {\n",
       "        vertical-align: top;\n",
       "    }\n",
       "\n",
       "    .dataframe thead th {\n",
       "        text-align: right;\n",
       "    }\n",
       "</style>\n",
       "<table border=\"1\" class=\"dataframe\">\n",
       "  <thead>\n",
       "    <tr style=\"text-align: right;\">\n",
       "      <th></th>\n",
       "      <th>std</th>\n",
       "      <th>mean</th>\n",
       "      <th>min</th>\n",
       "      <th>max</th>\n",
       "    </tr>\n",
       "  </thead>\n",
       "  <tbody>\n",
       "    <tr>\n",
       "      <th>rfc_f1</th>\n",
       "      <td>0.023722</td>\n",
       "      <td>0.576661</td>\n",
       "      <td>0.541833</td>\n",
       "      <td>0.621908</td>\n",
       "    </tr>\n",
       "    <tr>\n",
       "      <th>logreg_f1</th>\n",
       "      <td>0.058856</td>\n",
       "      <td>0.313652</td>\n",
       "      <td>0.184466</td>\n",
       "      <td>0.379747</td>\n",
       "    </tr>\n",
       "    <tr>\n",
       "      <th>rfc_recall</th>\n",
       "      <td>0.033661</td>\n",
       "      <td>0.465318</td>\n",
       "      <td>0.412121</td>\n",
       "      <td>0.533333</td>\n",
       "    </tr>\n",
       "    <tr>\n",
       "      <th>logreg_recall</th>\n",
       "      <td>0.045272</td>\n",
       "      <td>0.213422</td>\n",
       "      <td>0.115854</td>\n",
       "      <td>0.272727</td>\n",
       "    </tr>\n",
       "    <tr>\n",
       "      <th>rfc_precision</th>\n",
       "      <td>0.045598</td>\n",
       "      <td>0.764024</td>\n",
       "      <td>0.675214</td>\n",
       "      <td>0.829787</td>\n",
       "    </tr>\n",
       "    <tr>\n",
       "      <th>logreg_precision</th>\n",
       "      <td>0.079488</td>\n",
       "      <td>0.600781</td>\n",
       "      <td>0.452381</td>\n",
       "      <td>0.732143</td>\n",
       "    </tr>\n",
       "    <tr>\n",
       "      <th>rfc_accuracy</th>\n",
       "      <td>0.007530</td>\n",
       "      <td>0.859875</td>\n",
       "      <td>0.845000</td>\n",
       "      <td>0.872500</td>\n",
       "    </tr>\n",
       "    <tr>\n",
       "      <th>logreg_accuracy</th>\n",
       "      <td>0.011083</td>\n",
       "      <td>0.809625</td>\n",
       "      <td>0.790000</td>\n",
       "      <td>0.826250</td>\n",
       "    </tr>\n",
       "  </tbody>\n",
       "</table>\n",
       "</div>"
      ],
      "text/plain": [
       "                       std      mean       min       max\n",
       "rfc_f1            0.023722  0.576661  0.541833  0.621908\n",
       "logreg_f1         0.058856  0.313652  0.184466  0.379747\n",
       "rfc_recall        0.033661  0.465318  0.412121  0.533333\n",
       "logreg_recall     0.045272  0.213422  0.115854  0.272727\n",
       "rfc_precision     0.045598  0.764024  0.675214  0.829787\n",
       "logreg_precision  0.079488  0.600781  0.452381  0.732143\n",
       "rfc_accuracy      0.007530  0.859875  0.845000  0.872500\n",
       "logreg_accuracy   0.011083  0.809625  0.790000  0.826250"
      ]
     },
     "metadata": {},
     "output_type": "display_data"
    }
   ],
   "source": [
    "# Instancing the machine learning algorithms to check\n",
    "rfc_ref = RandomForestClassifier(random_state=RANDOM_STATE)\n",
    "logreg_ref = LogisticRegression(random_state=RANDOM_STATE)\n",
    "models_ref = {'rfc': rfc_ref, 'logreg': logreg_ref}\n",
    "# \n",
    "# Aggregating the evaluation metrics to compare\n",
    "comp_metrics = ('f1', 'recall', 'precision', 'accuracy')\n",
    "\n",
    "# get the characteristc data\n",
    "with warnings.catch_warnings() as w:\n",
    "    warnings.filterwarnings(\"ignore\")\n",
    "    char_benchmark = det_characteristic(models_ref, X_train, y_train, comp_metrics)\n",
    "    \n",
    "display(create_table(char_benchmark[0]))"
   ]
  },
  {
   "cell_type": "code",
   "execution_count": 30,
   "id": "dressed-request",
   "metadata": {},
   "outputs": [],
   "source": [
    "# Training without crossvalidation for later benchmarking\n",
    "logreg_standard_imbalanced = LogisticRegression(random_state=RANDOM_STATE)\n",
    "rfc_standard_imbalanced = RandomForestClassifier(random_state=RANDOM_STATE)\n",
    "for submodel in (rfc_standard_imbalanced, logreg_standard_imbalanced): \n",
    "    submodel.fit(X_train, y_train)\n",
    "logreg_standard_imbalanced_pred = logreg_standard_imbalanced.predict(X_test)\n",
    "rfc_standard_imbalanced_pred = rfc_standard_imbalanced.predict(X_test)\n",
    "logreg_standard_imbalanced_f1 = f1_score(y_test, logreg_standard_imbalanced_pred)\n",
    "rfc_standard_imbalanced_f1 = f1_score(y_test, rfc_standard_imbalanced_pred)"
   ]
  },
  {
   "cell_type": "markdown",
   "id": "better-conducting",
   "metadata": {},
   "source": [
    "> **Observations**\n",
    "> - for each metrics the mean and max is higer for the random forest compared to the logistical regession.\n",
    "> - beside the recall, the standard dervation of the linreg is higher than the one of the random forest"
   ]
  },
  {
   "cell_type": "code",
   "execution_count": 31,
   "id": "continental-karen",
   "metadata": {},
   "outputs": [
    {
     "data": {
      "image/png": "[encoded data removed]",
      "text/plain": [
       "<Figure size 1008x288 with 3 Axes>"
      ]
     },
     "metadata": {
      "needs_background": "light"
     },
     "output_type": "display_data"
    },
    {
     "data": {
      "image/png": "[encoded data removed]",
      "text/plain": [
       "<Figure size 1008x288 with 3 Axes>"
      ]
     },
     "metadata": {
      "needs_background": "light"
     },
     "output_type": "display_data"
    },
    {
     "data": {
      "image/png": "[encoded data removed]",
      "text/plain": [
       "<Figure size 1008x288 with 3 Axes>"
      ]
     },
     "metadata": {
      "needs_background": "light"
     },
     "output_type": "display_data"
    },
    {
     "data": {
      "image/png": "[encoded data removed]",
      "text/plain": [
       "<Figure size 1008x288 with 3 Axes>"
      ]
     },
     "metadata": {
      "needs_background": "light"
     },
     "output_type": "display_data"
    }
   ],
   "source": [
    "disp_characteristics_subplots(char_benchmark[1], ('f1', 'recall', 'precision', 'accuracy'))"
   ]
  },
  {
   "cell_type": "markdown",
   "id": "operational-incentive",
   "metadata": {},
   "source": [
    "> **Observations:**\n",
    "> - In all evaluation metrics, but espectially in the recal and consequently the f1 score, the decision trees perform much better than linear regression. \n",
    "> - \\-\\> The perforamnce and stability (for training data) of a standard model of random forests is expected to be higher for this task without balancing classes, hyperparameter tuning and threshold adjustments"
   ]
  },
  {
   "cell_type": "markdown",
   "id": "possible-understanding",
   "metadata": {},
   "source": [
    "## 4.2. Model development balanced features\n",
    "> In this step the imbalance of the classes (4:1, which is shown below) has been minimized with different methods for the train set.  \n",
    "> The test set remained like it was to test the model accuracy for deployment.\n",
    "> The outcome of those methods will be compared.  \n",
    "> Finally the best method will be selected and the model will be trained on the adjuested data (including tuning hyperparameter as well as the threshold adjustment for the logistic regression.\n",
    "\n",
    "> The 3 different versions of tackeling the imbalance of the classes substitute of:\n",
    "> - Upsampling \n",
    "> - Downsampling\n",
    "> - Class weight adjustments"
   ]
  },
  {
   "cell_type": "code",
   "execution_count": 32,
   "id": "fitting-essay",
   "metadata": {},
   "outputs": [
    {
     "data": {
      "image/png": "[encoded data removed]",
      "text/plain": [
       "<Figure size 432x288 with 1 Axes>"
      ]
     },
     "metadata": {
      "needs_background": "light"
     },
     "output_type": "display_data"
    }
   ],
   "source": [
    "# Investigating imbalance in the total dataset\n",
    "# Slicing df in class 0 and class 1\n",
    "df_c0 = df_scaled_ohe[df_scaled_ohe['exited']==0]\n",
    "df_c1 = df_scaled_ohe[df_scaled_ohe['exited']==1]\n",
    "\n",
    "# Get count of each class\n",
    "cnt_c0, cnt_c1 = df.exited.value_counts()\n",
    "\n",
    "# Plott class relations\n",
    "ax = df.exited.value_counts().plot(kind='bar', title='Count exited (=target)');\n",
    "ax.set_xlabel('class')\n",
    "ax.set_ylabel('count')\n",
    "plt.show()"
   ]
  },
  {
   "cell_type": "markdown",
   "id": "metric-asset",
   "metadata": {},
   "source": [
    "### 4.2.2. Upsampling\n",
    "> In this step the samples of the underrepresented class will be upsampled for the test data by using the pandas method sample and the replace=True parameter. Alternatively resample from sklearn.utils could be used."
   ]
  },
  {
   "cell_type": "code",
   "execution_count": 33,
   "id": "considered-exchange",
   "metadata": {},
   "outputs": [
    {
     "data": {
      "image/png": "[encoded data removed]",
      "text/plain": [
       "<Figure size 432x288 with 1 Axes>"
      ]
     },
     "metadata": {
      "needs_background": "light"
     },
     "output_type": "display_data"
    }
   ],
   "source": [
    "# Investigating imbalance for train set\n",
    "df_c0_train = df_train[df_train['exited']==0]\n",
    "df_c1_train = df_train[df_train['exited']==1]\n",
    "\n",
    "# Get count of each class\n",
    "cnt_c0_train, cnt_c1_train = df_train.exited.value_counts()\n",
    "\n",
    "# Plott class relations\n",
    "ax = df_train.exited.value_counts().plot(kind='bar', title='Count exited train set (=target)');\n",
    "ax.set_xlabel('class')\n",
    "ax.set_ylabel('count')\n",
    "plt.show()"
   ]
  },
  {
   "cell_type": "code",
   "execution_count": 34,
   "id": "gentle-million",
   "metadata": {},
   "outputs": [
    {
     "data": {
      "image/png": "[encoded data removed]",
      "text/plain": [
       "<Figure size 432x288 with 1 Axes>"
      ]
     },
     "metadata": {
      "needs_background": "light"
     },
     "output_type": "display_data"
    }
   ],
   "source": [
    "# Upsample underrepresened class\n",
    "df_c1_ups = df_c1_train.sample(cnt_c0_train, random_state=RANDOM_STATE, replace=True)\n",
    "\n",
    "# Concat data of upsampled class 1 and class 0\n",
    "df_ups = shuffle(pd.concat([df_c1_ups, df_c0_train]))\n",
    "\n",
    "# Plott result\n",
    "ax = df_ups.exited.value_counts().plot(kind='bar', title='Count upsampled classes');\n",
    "ax.set_xlabel('class')\n",
    "ax.set_ylabel('count')\n",
    "plt.show()"
   ]
  },
  {
   "cell_type": "markdown",
   "id": "unlikely-snapshot",
   "metadata": {},
   "source": [
    "> Both classes contain now around 6200 samples"
   ]
  },
  {
   "cell_type": "code",
   "execution_count": 35,
   "id": "underlying-testing",
   "metadata": {},
   "outputs": [],
   "source": [
    "# Get X,y from upsampled df\n",
    "X_train_us = df_ups.drop('exited', axis=1)\n",
    "y_train_us = df_ups['exited']"
   ]
  },
  {
   "cell_type": "code",
   "execution_count": 36,
   "id": "compliant-daughter",
   "metadata": {},
   "outputs": [
    {
     "data": {
      "text/html": [
       "<div>\n",
       "<style scoped>\n",
       "    .dataframe tbody tr th:only-of-type {\n",
       "        vertical-align: middle;\n",
       "    }\n",
       "\n",
       "    .dataframe tbody tr th {\n",
       "        vertical-align: top;\n",
       "    }\n",
       "\n",
       "    .dataframe thead th {\n",
       "        text-align: right;\n",
       "    }\n",
       "</style>\n",
       "<table border=\"1\" class=\"dataframe\">\n",
       "  <thead>\n",
       "    <tr style=\"text-align: right;\">\n",
       "      <th></th>\n",
       "      <th>std</th>\n",
       "      <th>mean</th>\n",
       "      <th>min</th>\n",
       "      <th>max</th>\n",
       "    </tr>\n",
       "  </thead>\n",
       "  <tbody>\n",
       "    <tr>\n",
       "      <th>rfc_f1</th>\n",
       "      <td>0.003441</td>\n",
       "      <td>0.959161</td>\n",
       "      <td>0.954268</td>\n",
       "      <td>0.964724</td>\n",
       "    </tr>\n",
       "    <tr>\n",
       "      <th>logreg_f1</th>\n",
       "      <td>0.012770</td>\n",
       "      <td>0.699704</td>\n",
       "      <td>0.682072</td>\n",
       "      <td>0.720387</td>\n",
       "    </tr>\n",
       "    <tr>\n",
       "      <th>rfc_recall</th>\n",
       "      <td>0.003292</td>\n",
       "      <td>0.984580</td>\n",
       "      <td>0.977953</td>\n",
       "      <td>0.988994</td>\n",
       "    </tr>\n",
       "    <tr>\n",
       "      <th>logreg_recall</th>\n",
       "      <td>0.014294</td>\n",
       "      <td>0.693520</td>\n",
       "      <td>0.672441</td>\n",
       "      <td>0.715409</td>\n",
       "    </tr>\n",
       "    <tr>\n",
       "      <th>rfc_precision</th>\n",
       "      <td>0.005747</td>\n",
       "      <td>0.935043</td>\n",
       "      <td>0.926036</td>\n",
       "      <td>0.942857</td>\n",
       "    </tr>\n",
       "    <tr>\n",
       "      <th>logreg_precision</th>\n",
       "      <td>0.016324</td>\n",
       "      <td>0.706202</td>\n",
       "      <td>0.688854</td>\n",
       "      <td>0.737624</td>\n",
       "    </tr>\n",
       "    <tr>\n",
       "      <th>rfc_accuracy</th>\n",
       "      <td>0.003623</td>\n",
       "      <td>0.958071</td>\n",
       "      <td>0.952793</td>\n",
       "      <td>0.963808</td>\n",
       "    </tr>\n",
       "    <tr>\n",
       "      <th>logreg_accuracy</th>\n",
       "      <td>0.013498</td>\n",
       "      <td>0.702331</td>\n",
       "      <td>0.686321</td>\n",
       "      <td>0.726987</td>\n",
       "    </tr>\n",
       "  </tbody>\n",
       "</table>\n",
       "</div>"
      ],
      "text/plain": [
       "                       std      mean       min       max\n",
       "rfc_f1            0.003441  0.959161  0.954268  0.964724\n",
       "logreg_f1         0.012770  0.699704  0.682072  0.720387\n",
       "rfc_recall        0.003292  0.984580  0.977953  0.988994\n",
       "logreg_recall     0.014294  0.693520  0.672441  0.715409\n",
       "rfc_precision     0.005747  0.935043  0.926036  0.942857\n",
       "logreg_precision  0.016324  0.706202  0.688854  0.737624\n",
       "rfc_accuracy      0.003623  0.958071  0.952793  0.963808\n",
       "logreg_accuracy   0.013498  0.702331  0.686321  0.726987"
      ]
     },
     "metadata": {},
     "output_type": "display_data"
    }
   ],
   "source": [
    "# Instancing the machine learning algorithms to check\n",
    "rfc_ups = RandomForestClassifier(random_state=RANDOM_STATE)\n",
    "logreg_ups = LogisticRegression(random_state=RANDOM_STATE)\n",
    "models_ups = {'rfc': rfc_ups, 'logreg': logreg_ups}\n",
    "\n",
    "# Aggregating the evaluation metrics to compare\n",
    "comp_metrics = ('f1', 'recall', 'precision', 'accuracy')\n",
    "\n",
    "# get the characteristc data\n",
    "with warnings.catch_warnings() as w:\n",
    "    warnings.filterwarnings(\"ignore\")\n",
    "    char_benchmark_up = det_characteristic(models_ups, X_train_us, \n",
    "                                          y_train_us, comp_metrics)\n",
    "\n",
    "display(create_table(char_benchmark_up[0]))"
   ]
  },
  {
   "cell_type": "code",
   "execution_count": 37,
   "id": "victorian-walker",
   "metadata": {},
   "outputs": [],
   "source": [
    "# F1 Score for benchmarking without cv\n",
    "rfc_standard_us = RandomForestClassifier(random_state=RANDOM_STATE)\n",
    "logreg_standard_us = LogisticRegression(random_state=RANDOM_STATE)\n",
    "\n",
    "for submodel in (rfc_standard_us, logreg_standard_us):\n",
    "    submodel.fit(X_train_us, y_train_us)\n",
    "    \n",
    "rfc_standard_us_pred = rfc_standard_us.predict(X_test)\n",
    "rfc_standard_us_f1 = f1_score(y_test, rfc_standard_us_pred)\n",
    "logreg_standard_us_pred = logreg_standard_us.predict(X_test)\n",
    "logreg_standard_us_f1 = f1_score(y_test, logreg_standard_us_pred)"
   ]
  },
  {
   "cell_type": "code",
   "execution_count": 38,
   "id": "square-mounting",
   "metadata": {},
   "outputs": [
    {
     "data": {
      "image/png": "[encoded data removed]",
      "text/plain": [
       "<Figure size 1008x288 with 3 Axes>"
      ]
     },
     "metadata": {
      "needs_background": "light"
     },
     "output_type": "display_data"
    },
    {
     "data": {
      "image/png": "[encoded data removed]",
      "text/plain": [
       "<Figure size 1008x288 with 3 Axes>"
      ]
     },
     "metadata": {
      "needs_background": "light"
     },
     "output_type": "display_data"
    },
    {
     "data": {
      "image/png": "[encoded data removed]",
      "text/plain": [
       "<Figure size 1008x288 with 3 Axes>"
      ]
     },
     "metadata": {
      "needs_background": "light"
     },
     "output_type": "display_data"
    },
    {
     "data": {
      "image/png": "[encoded data removed]",
      "text/plain": [
       "<Figure size 1008x288 with 3 Axes>"
      ]
     },
     "metadata": {
      "needs_background": "light"
     },
     "output_type": "display_data"
    }
   ],
   "source": [
    "disp_characteristics_subplots(char_benchmark_up[1], ('f1', 'recall', 'precision', 'accuracy'))"
   ]
  },
  {
   "cell_type": "markdown",
   "id": "documented-infrastructure",
   "metadata": {},
   "source": [
    "> **Observations:**\n",
    "> - Upsampling the underrepresented class lead to an higher quality of the model of 94% (f1)\n",
    "> - Additional to that both learning algorithms show much less variance (more stability).\n",
    "> - In this case the standard random forest classifier seems to have a much higher model quality than the logistic regression"
   ]
  },
  {
   "cell_type": "markdown",
   "id": "described-marker",
   "metadata": {},
   "source": [
    "### 4.2.3. Downsampling"
   ]
  },
  {
   "cell_type": "code",
   "execution_count": 39,
   "id": "fundamental-lover",
   "metadata": {},
   "outputs": [
    {
     "data": {
      "image/png": "[encoded data removed]",
      "text/plain": [
       "<Figure size 432x288 with 1 Axes>"
      ]
     },
     "metadata": {
      "needs_background": "light"
     },
     "output_type": "display_data"
    }
   ],
   "source": [
    "# Downsample overrepresented class\n",
    "df_c0_down = df_c0_train.sample(cnt_c1_train, random_state=RANDOM_STATE)\n",
    "\n",
    "# Concat downsampled df and df_c1\n",
    "df_dsp_tain = shuffle(pd.concat([df_c0_down, df_c1_train]))\n",
    "\n",
    "# Plot results\n",
    "ax = df_dsp_tain.exited.value_counts().plot(kind='bar', title='Count downsampled classes');\n",
    "ax.set_xlabel('class')\n",
    "ax.set_ylabel('count')\n",
    "plt.show()"
   ]
  },
  {
   "cell_type": "markdown",
   "id": "international-massachusetts",
   "metadata": {},
   "source": [
    "> Both classes contain now around 6200 samples"
   ]
  },
  {
   "cell_type": "code",
   "execution_count": 40,
   "id": "finite-sherman",
   "metadata": {},
   "outputs": [],
   "source": [
    "# Get X,y from upsampled df\n",
    "X_train_ds = df_dsp_tain.drop('exited', axis=1)\n",
    "y_train_ds = df_dsp_tain['exited']"
   ]
  },
  {
   "cell_type": "code",
   "execution_count": 41,
   "id": "cooperative-chest",
   "metadata": {},
   "outputs": [
    {
     "data": {
      "text/html": [
       "<div>\n",
       "<style scoped>\n",
       "    .dataframe tbody tr th:only-of-type {\n",
       "        vertical-align: middle;\n",
       "    }\n",
       "\n",
       "    .dataframe tbody tr th {\n",
       "        vertical-align: top;\n",
       "    }\n",
       "\n",
       "    .dataframe thead th {\n",
       "        text-align: right;\n",
       "    }\n",
       "</style>\n",
       "<table border=\"1\" class=\"dataframe\">\n",
       "  <thead>\n",
       "    <tr style=\"text-align: right;\">\n",
       "      <th></th>\n",
       "      <th>std</th>\n",
       "      <th>mean</th>\n",
       "      <th>min</th>\n",
       "      <th>max</th>\n",
       "    </tr>\n",
       "  </thead>\n",
       "  <tbody>\n",
       "    <tr>\n",
       "      <th>rfc_f1</th>\n",
       "      <td>0.025799</td>\n",
       "      <td>0.752335</td>\n",
       "      <td>0.722045</td>\n",
       "      <td>0.788644</td>\n",
       "    </tr>\n",
       "    <tr>\n",
       "      <th>logreg_f1</th>\n",
       "      <td>0.027121</td>\n",
       "      <td>0.701776</td>\n",
       "      <td>0.655949</td>\n",
       "      <td>0.741641</td>\n",
       "    </tr>\n",
       "    <tr>\n",
       "      <th>rfc_recall</th>\n",
       "      <td>0.029115</td>\n",
       "      <td>0.729302</td>\n",
       "      <td>0.689024</td>\n",
       "      <td>0.768293</td>\n",
       "    </tr>\n",
       "    <tr>\n",
       "      <th>logreg_recall</th>\n",
       "      <td>0.037892</td>\n",
       "      <td>0.698252</td>\n",
       "      <td>0.621951</td>\n",
       "      <td>0.745455</td>\n",
       "    </tr>\n",
       "    <tr>\n",
       "      <th>rfc_precision</th>\n",
       "      <td>0.026329</td>\n",
       "      <td>0.777202</td>\n",
       "      <td>0.745223</td>\n",
       "      <td>0.822368</td>\n",
       "    </tr>\n",
       "    <tr>\n",
       "      <th>logreg_precision</th>\n",
       "      <td>0.022996</td>\n",
       "      <td>0.706125</td>\n",
       "      <td>0.678571</td>\n",
       "      <td>0.748387</td>\n",
       "    </tr>\n",
       "    <tr>\n",
       "      <th>rfc_accuracy</th>\n",
       "      <td>0.024465</td>\n",
       "      <td>0.760028</td>\n",
       "      <td>0.732523</td>\n",
       "      <td>0.796353</td>\n",
       "    </tr>\n",
       "    <tr>\n",
       "      <th>logreg_accuracy</th>\n",
       "      <td>0.023522</td>\n",
       "      <td>0.703765</td>\n",
       "      <td>0.673780</td>\n",
       "      <td>0.741641</td>\n",
       "    </tr>\n",
       "  </tbody>\n",
       "</table>\n",
       "</div>"
      ],
      "text/plain": [
       "                       std      mean       min       max\n",
       "rfc_f1            0.025799  0.752335  0.722045  0.788644\n",
       "logreg_f1         0.027121  0.701776  0.655949  0.741641\n",
       "rfc_recall        0.029115  0.729302  0.689024  0.768293\n",
       "logreg_recall     0.037892  0.698252  0.621951  0.745455\n",
       "rfc_precision     0.026329  0.777202  0.745223  0.822368\n",
       "logreg_precision  0.022996  0.706125  0.678571  0.748387\n",
       "rfc_accuracy      0.024465  0.760028  0.732523  0.796353\n",
       "logreg_accuracy   0.023522  0.703765  0.673780  0.741641"
      ]
     },
     "metadata": {},
     "output_type": "display_data"
    }
   ],
   "source": [
    "# Instancing the machine learning algorithms to check\n",
    "rfc_ds = RandomForestClassifier(random_state=RANDOM_STATE)\n",
    "logreg_ds = LogisticRegression(random_state=RANDOM_STATE)\n",
    "models_ds = {'rfc': rfc_ds, 'logreg': logreg_ds}\n",
    "\n",
    "# Aggregating the evaluation metrics to compare\n",
    "comp_metrics = ('f1', 'recall', 'precision', 'accuracy')\n",
    "\n",
    "# get the characteristc data\n",
    "with warnings.catch_warnings() as w:\n",
    "    warnings.filterwarnings(\"ignore\")\n",
    "    char_benchmark_down = det_characteristic(models_ds, X_train_ds, \n",
    "                                          y_train_ds, comp_metrics)\n",
    "\n",
    "display(create_table(char_benchmark_down[0]))"
   ]
  },
  {
   "cell_type": "code",
   "execution_count": 42,
   "id": "rocky-soccer",
   "metadata": {},
   "outputs": [],
   "source": [
    "# F1 Score for benchmarking without cv\n",
    "rfc_standard_ds = RandomForestClassifier(random_state=RANDOM_STATE)\n",
    "logreg_standard_ds = LogisticRegression(random_state=RANDOM_STATE)\n",
    "\n",
    "for submodel in (rfc_standard_ds, logreg_standard_ds):\n",
    "    submodel.fit(X_train_ds, y_train_ds)\n",
    "    \n",
    "rfc_standard_ds_pred = rfc_standard_us.predict(X_test)\n",
    "rfc_standard_ds_f1 = f1_score(y_test, rfc_standard_ds_pred)\n",
    "logreg_standard_ds_pred = logreg_standard_us.predict(X_test)\n",
    "logreg_standard_ds_f1 = f1_score(y_test, logreg_standard_ds_pred)"
   ]
  },
  {
   "cell_type": "code",
   "execution_count": 43,
   "id": "occupational-commissioner",
   "metadata": {},
   "outputs": [
    {
     "data": {
      "image/png": "[encoded data removed]",
      "text/plain": [
       "<Figure size 1008x288 with 3 Axes>"
      ]
     },
     "metadata": {
      "needs_background": "light"
     },
     "output_type": "display_data"
    },
    {
     "data": {
      "image/png": "[encoded data removed]",
      "text/plain": [
       "<Figure size 1008x288 with 3 Axes>"
      ]
     },
     "metadata": {
      "needs_background": "light"
     },
     "output_type": "display_data"
    },
    {
     "data": {
      "image/png": "[encoded data removed]",
      "text/plain": [
       "<Figure size 1008x288 with 3 Axes>"
      ]
     },
     "metadata": {
      "needs_background": "light"
     },
     "output_type": "display_data"
    },
    {
     "data": {
      "image/png": "[encoded data removed]",
      "text/plain": [
       "<Figure size 1008x288 with 3 Axes>"
      ]
     },
     "metadata": {
      "needs_background": "light"
     },
     "output_type": "display_data"
    }
   ],
   "source": [
    "disp_characteristics_subplots(char_benchmark_down[1], ('f1', 'recall', 'precision', 'accuracy'))"
   ]
  },
  {
   "cell_type": "markdown",
   "id": "otherwise-necklace",
   "metadata": {},
   "source": [
    "> **Observation:**  \n",
    "> Preformance of standard models nearly equal"
   ]
  },
  {
   "cell_type": "markdown",
   "id": "proved-yorkshire",
   "metadata": {},
   "source": [
    "### 4.2.3. Class weight adjustments\n",
    "> In this steps the samplesize was not changed, only the weight for the imbalanced (underrepresented) class has been increased."
   ]
  },
  {
   "cell_type": "code",
   "execution_count": 44,
   "id": "divided-library",
   "metadata": {},
   "outputs": [
    {
     "data": {
      "text/html": [
       "<div>\n",
       "<style scoped>\n",
       "    .dataframe tbody tr th:only-of-type {\n",
       "        vertical-align: middle;\n",
       "    }\n",
       "\n",
       "    .dataframe tbody tr th {\n",
       "        vertical-align: top;\n",
       "    }\n",
       "\n",
       "    .dataframe thead th {\n",
       "        text-align: right;\n",
       "    }\n",
       "</style>\n",
       "<table border=\"1\" class=\"dataframe\">\n",
       "  <thead>\n",
       "    <tr style=\"text-align: right;\">\n",
       "      <th></th>\n",
       "      <th>std</th>\n",
       "      <th>mean</th>\n",
       "      <th>min</th>\n",
       "      <th>max</th>\n",
       "    </tr>\n",
       "  </thead>\n",
       "  <tbody>\n",
       "    <tr>\n",
       "      <th>rfc_f1</th>\n",
       "      <td>0.018809</td>\n",
       "      <td>0.564723</td>\n",
       "      <td>0.530612</td>\n",
       "      <td>0.591440</td>\n",
       "    </tr>\n",
       "    <tr>\n",
       "      <th>logreg_f1</th>\n",
       "      <td>0.025449</td>\n",
       "      <td>0.493124</td>\n",
       "      <td>0.453988</td>\n",
       "      <td>0.547414</td>\n",
       "    </tr>\n",
       "    <tr>\n",
       "      <th>rfc_recall</th>\n",
       "      <td>0.026978</td>\n",
       "      <td>0.444021</td>\n",
       "      <td>0.396341</td>\n",
       "      <td>0.490909</td>\n",
       "    </tr>\n",
       "    <tr>\n",
       "      <th>logreg_recall</th>\n",
       "      <td>0.032070</td>\n",
       "      <td>0.691656</td>\n",
       "      <td>0.648485</td>\n",
       "      <td>0.774390</td>\n",
       "    </tr>\n",
       "    <tr>\n",
       "      <th>rfc_precision</th>\n",
       "      <td>0.048455</td>\n",
       "      <td>0.781313</td>\n",
       "      <td>0.702703</td>\n",
       "      <td>0.850000</td>\n",
       "    </tr>\n",
       "    <tr>\n",
       "      <th>logreg_precision</th>\n",
       "      <td>0.023283</td>\n",
       "      <td>0.383448</td>\n",
       "      <td>0.341538</td>\n",
       "      <td>0.423333</td>\n",
       "    </tr>\n",
       "    <tr>\n",
       "      <th>rfc_accuracy</th>\n",
       "      <td>0.006548</td>\n",
       "      <td>0.859500</td>\n",
       "      <td>0.850000</td>\n",
       "      <td>0.870000</td>\n",
       "    </tr>\n",
       "    <tr>\n",
       "      <th>logreg_accuracy</th>\n",
       "      <td>0.020687</td>\n",
       "      <td>0.707375</td>\n",
       "      <td>0.666250</td>\n",
       "      <td>0.737500</td>\n",
       "    </tr>\n",
       "  </tbody>\n",
       "</table>\n",
       "</div>"
      ],
      "text/plain": [
       "                       std      mean       min       max\n",
       "rfc_f1            0.018809  0.564723  0.530612  0.591440\n",
       "logreg_f1         0.025449  0.493124  0.453988  0.547414\n",
       "rfc_recall        0.026978  0.444021  0.396341  0.490909\n",
       "logreg_recall     0.032070  0.691656  0.648485  0.774390\n",
       "rfc_precision     0.048455  0.781313  0.702703  0.850000\n",
       "logreg_precision  0.023283  0.383448  0.341538  0.423333\n",
       "rfc_accuracy      0.006548  0.859500  0.850000  0.870000\n",
       "logreg_accuracy   0.020687  0.707375  0.666250  0.737500"
      ]
     },
     "metadata": {},
     "output_type": "display_data"
    }
   ],
   "source": [
    "# Instancing the machine learning algorithms to check\n",
    "rfc_weiht = RandomForestClassifier(random_state=RANDOM_STATE,\n",
    "                                 class_weight='balanced')\n",
    "logreg_weight = LogisticRegression(random_state=RANDOM_STATE,\n",
    "                               class_weight='balanced')\n",
    "models = {'rfc': rfc_weiht, 'logreg': logreg_weight}\n",
    "\n",
    "# Aggregating the evaluation metrics to compare\n",
    "comp_metrics = ('f1', 'recall', 'precision', 'accuracy')\n",
    "\n",
    "# get the characteristc data\n",
    "with warnings.catch_warnings() as w:\n",
    "    warnings.filterwarnings(\"ignore\")\n",
    "    char_benchmark_weight = det_characteristic(models, X_train, \n",
    "                                          y_train, comp_metrics)\n",
    "\n",
    "display(create_table(char_benchmark_weight[0]))"
   ]
  },
  {
   "cell_type": "code",
   "execution_count": 45,
   "id": "creative-interface",
   "metadata": {},
   "outputs": [
    {
     "data": {
      "image/png": "[encoded data removed]",
      "text/plain": [
       "<Figure size 1008x288 with 3 Axes>"
      ]
     },
     "metadata": {
      "needs_background": "light"
     },
     "output_type": "display_data"
    },
    {
     "data": {
      "image/png": "[encoded data removed]",
      "text/plain": [
       "<Figure size 1008x288 with 3 Axes>"
      ]
     },
     "metadata": {
      "needs_background": "light"
     },
     "output_type": "display_data"
    },
    {
     "data": {
      "image/png": "[encoded data removed]",
      "text/plain": [
       "<Figure size 1008x288 with 3 Axes>"
      ]
     },
     "metadata": {
      "needs_background": "light"
     },
     "output_type": "display_data"
    },
    {
     "data": {
      "image/png": "[encoded data removed]",
      "text/plain": [
       "<Figure size 1008x288 with 3 Axes>"
      ]
     },
     "metadata": {
      "needs_background": "light"
     },
     "output_type": "display_data"
    }
   ],
   "source": [
    "disp_characteristics_subplots(char_benchmark_weight[1], ('f1', 'recall', 'precision', 'accuracy'))"
   ]
  },
  {
   "cell_type": "markdown",
   "id": "improving-andrews",
   "metadata": {},
   "source": [
    "> **Observations:**\n",
    "> - f1 score of linreg and random forests nearly equal but lower than up/downsampled\n",
    "> - The variance of the models is higher than in the reference model but lower than in the upsampled df\n",
    "> - Recall for random forest is super low (38%) whereas the precision wit 75% is fine. \n",
    "> -Same applies for the logistic regression but just switched around"
   ]
  },
  {
   "cell_type": "markdown",
   "id": "engaging-taxation",
   "metadata": {},
   "source": [
    "### 4.2.4. Standard model comparison\n",
    "> In this chapter the outcomes of the cv will be compared as well as 3 standard models scores on the testset to have data for benchmarking compared to the tuned ones"
   ]
  },
  {
   "cell_type": "code",
   "execution_count": 46,
   "id": "established-league",
   "metadata": {},
   "outputs": [],
   "source": [
    "def fit_and_eval_logreg_rfc(test, train, eval_metrics, names_eval_metrics):\n",
    "    '''Trans and evaluates a standard rfc and logreg model with the given data & metrics\n",
    "    params:\n",
    "        test: list of test_dfs\n",
    "        train: list of train_dfs\n",
    "        eval_metrics: list of eval_funcs\n",
    "        names_eval_metrics: names of eval_funcs\n",
    "    \n",
    "    retuns\n",
    "        tuple of dicts with the results (rfc, logreg)\n",
    "    '''\n",
    "    scores_rfc = {met: [] for met in names_eval_metrics}\n",
    "    scores_logreg = {met: [] for met in names_eval_metrics}\n",
    "\n",
    "    # Scoring models on upsampled data\n",
    "    for (X_tr, y_tr), (X_te, y_te)  in zip(train, test):\n",
    "        # Instance models\n",
    "        logreg = LogisticRegression(random_state=RANDOM_STATE)\n",
    "        rfc = RandomForestClassifier(random_state=RANDOM_STATE)\n",
    "\n",
    "        # fit models\n",
    "        for model in (logreg, rfc): \n",
    "            model.fit(X_tr, y_tr)    \n",
    "\n",
    "        # Make predictions\n",
    "        lpr = logreg.predict(X_te)\n",
    "        rfcpr = rfc.predict(X_te)\n",
    "\n",
    "        for idx, score in enumerate(eval_metrics):\n",
    "            sc_l = score(y_te, lpr)\n",
    "            sc_rfc = score(y_te, rfcpr)\n",
    "            scores_logreg[names_eval_metrics[idx]].append(sc_l)\n",
    "            scores_rfc[names_eval_metrics[idx]].append(sc_rfc)\n",
    "\n",
    "    return (scores_rfc, scores_logreg)"
   ]
  },
  {
   "cell_type": "code",
   "execution_count": 47,
   "id": "informal-reasoning",
   "metadata": {},
   "outputs": [],
   "source": [
    "# Train and evaluate the models\n",
    "train = [\n",
    "    [X_train, y_train],\n",
    "    [X_train_us, y_train_us],\n",
    "    [X_train_ds, y_train_ds]\n",
    "]\n",
    "\n",
    "test = [\n",
    "    [X_test, y_test],\n",
    "    [X_test, y_test],\n",
    "    [X_test, y_test]\n",
    "]\n",
    "\n",
    "eval_metrics = [accuracy_score, f1_score, roc_auc_score]\n",
    "names_eval_metrics = ['acc', 'f1', 'roc_auc']\n",
    "\n",
    "scores_rfc, scores_logreg = fit_and_eval_logreg_rfc(\n",
    "    test, train, eval_metrics, names_eval_metrics)"
   ]
  },
  {
   "cell_type": "code",
   "execution_count": 48,
   "id": "appointed-engagement",
   "metadata": {},
   "outputs": [
    {
     "data": {
      "text/plain": [
       "{'acc': [0.8115, 0.717, 0.7215],\n",
       " 'f1': [0.29532710280373836, 0.4973357015985791, 0.5022341376228776],\n",
       " 'roc_auc': [0.5809071634753171, 0.715288234837725, 0.719049609611892]}"
      ]
     },
     "execution_count": 48,
     "metadata": {},
     "output_type": "execute_result"
    }
   ],
   "source": [
    "# Checking if models are evaluated correct\n",
    "scores_logreg"
   ]
  },
  {
   "cell_type": "code",
   "execution_count": 49,
   "id": "innocent-daughter",
   "metadata": {},
   "outputs": [],
   "source": [
    "def compare_scores(data, title):\n",
    "    '''Plots the data in a grouped bar chart\n",
    "    parameter:\n",
    "        data: {str: list(results)}\n",
    "        title: string of model to score'''\n",
    "    # set width of bars\n",
    "    barWidth = 0.25\n",
    "    plt.figure(figsize=(12,4))\n",
    "\n",
    "    # Set position of bar on X axis\n",
    "    r1 = np.arange(len(data))\n",
    "    r2 = [x + barWidth for x in r1]\n",
    "    r3 = [x + barWidth for x in r2]\n",
    " \n",
    "    # Make the plot\n",
    "    for (k,v), r in zip(data.items(), (r1, r2, r3)):\n",
    "        plt.bar(r, v, width=barWidth, edgecolor='white', label=k)\n",
    "\n",
    "    # Add xticks on the middle of the group bars\n",
    "    plt.xlabel('Target balancing', fontweight='bold')\n",
    "    plt.ylabel('Accuracy')\n",
    "    plt.xticks([r + barWidth for r in range(len(data))], \n",
    "               ['Unbalanced data', 'Upsampled data', 'Downsampled Data'])\n",
    " \n",
    "    # Create legend & Show graphic\n",
    "    plt.title('Comparison of results for ' + title)\n",
    "    plt.grid()\n",
    "    plt.legend()\n",
    "    plt.show()\n",
    "    "
   ]
  },
  {
   "cell_type": "code",
   "execution_count": 50,
   "id": "working-contract",
   "metadata": {},
   "outputs": [
    {
     "data": {
      "text/plain": [
       "{'acc': [0.8675, 0.8555, 0.79],\n",
       " 'f1': [0.5878693623639192, 0.5923836389280678, 0.5849802371541503],\n",
       " 'roc_auc': [0.7214785504258563, 0.7341948631226931, 0.7760925087601793]}"
      ]
     },
     "execution_count": 50,
     "metadata": {},
     "output_type": "execute_result"
    }
   ],
   "source": [
    "scores_rfc"
   ]
  },
  {
   "cell_type": "code",
   "execution_count": 51,
   "id": "heard-fossil",
   "metadata": {},
   "outputs": [
    {
     "data": {
      "image/png": "[encoded data removed]",
      "text/plain": [
       "<Figure size 864x288 with 1 Axes>"
      ]
     },
     "metadata": {
      "needs_background": "light"
     },
     "output_type": "display_data"
    }
   ],
   "source": [
    "# Plot overview over scores RFC\n",
    "compare_scores(scores_rfc, 'Standardmodel RFC')"
   ]
  },
  {
   "cell_type": "code",
   "execution_count": 52,
   "id": "pursuant-tours",
   "metadata": {},
   "outputs": [
    {
     "data": {
      "text/plain": [
       "{'acc': [0.8115, 0.717, 0.7215],\n",
       " 'f1': [0.29532710280373836, 0.4973357015985791, 0.5022341376228776],\n",
       " 'roc_auc': [0.5809071634753171, 0.715288234837725, 0.719049609611892]}"
      ]
     },
     "execution_count": 52,
     "metadata": {},
     "output_type": "execute_result"
    }
   ],
   "source": [
    "scores_logreg"
   ]
  },
  {
   "cell_type": "code",
   "execution_count": 53,
   "id": "dependent-facing",
   "metadata": {},
   "outputs": [
    {
     "data": {
      "image/png": "[encoded data removed]",
      "text/plain": [
       "<Figure size 864x288 with 1 Axes>"
      ]
     },
     "metadata": {
      "needs_background": "light"
     },
     "output_type": "display_data"
    }
   ],
   "source": [
    "# Plot overview over scores Logreg\n",
    "compare_scores(scores_logreg, 'Standardmodel Logreg')"
   ]
  },
  {
   "cell_type": "markdown",
   "id": "choice-immune",
   "metadata": {},
   "source": [
    "> **Observations for the standardmodels (No final evaluation):**\n",
    "> - The far best scores in cv (f1, rocauc and acc) were archived by random forests\n",
    "> - For this project Random forest classifier seem to fit better than logistic regression.\n",
    "> - The hyperparameter need to be tuned because threshold of 59% is not reached yet\n",
    "> - For further processing the upsampled/downsampled datasets will be used"
   ]
  },
  {
   "cell_type": "markdown",
   "id": "governmental-checklist",
   "metadata": {},
   "source": [
    "## 4.2. Training hyperparameter\n",
    "> Logreg with downsampled data\n",
    "> RFC with upsampled as well as downsampled data"
   ]
  },
  {
   "cell_type": "markdown",
   "id": "timely-mother",
   "metadata": {},
   "source": [
    "### 4.2.1. Logistic regression\n",
    "> Even if logistic regression is not the prefered algorithm of this projects the hyperparams have been trained to test how much the quality acutal can be improved.  \n",
    "> Thus the following steps have been carried out:\n",
    "> - Randomized grid search\n",
    "> - Grid search with cv\n",
    "> - Threshold adjustment"
   ]
  },
  {
   "cell_type": "code",
   "execution_count": 54,
   "id": "interested-disposition",
   "metadata": {},
   "outputs": [
    {
     "name": "stdout",
     "output_type": "stream",
     "text": [
      "Benchmarking standard model: 0.7050835779761424\n"
     ]
    }
   ],
   "source": [
    "# Benchmark standard model downsampled\n",
    "ref_logreg_ds = LogisticRegression(random_state=RANDOM_STATE)\n",
    "ref_f1_logreg_ds = np.mean(cross_val_score(ref_logreg_ds, X_train_ds, y_train_ds, scoring='f1'))\n",
    "print('Benchmarking standard model:', ref_f1_logreg_ds)"
   ]
  },
  {
   "cell_type": "code",
   "execution_count": 55,
   "id": "cognitive-pregnancy",
   "metadata": {},
   "outputs": [
    {
     "name": "stdout",
     "output_type": "stream",
     "text": [
      "Benchmarking standard model: 0.7003376245052424\n"
     ]
    }
   ],
   "source": [
    "# Benchmark standard model upsampled\n",
    "ref_logreg_us = LogisticRegression(random_state=RANDOM_STATE)\n",
    "ref_f1_logreg_us = np.mean(cross_val_score(ref_logreg_us, X_train_us, y_train_us, scoring='f1'))\n",
    "print('Benchmarking standard model:', ref_f1_logreg_us)"
   ]
  },
  {
   "cell_type": "markdown",
   "id": "weekly-rebecca",
   "metadata": {},
   "source": [
    "#### 4.2.1.1. Randomized grid search\n",
    "> In this chapter the randomized grid search has been carried out to get a first estimation for the range of good parameters within hyper parameter tuning.   \n",
    "> The following paramters have been tuned:\n",
    "> - solver,\n",
    "> - penalty,\n",
    "> - c\n",
    "> - max_iter"
   ]
  },
  {
   "cell_type": "code",
   "execution_count": 56,
   "id": "stuffed-field",
   "metadata": {},
   "outputs": [
    {
     "name": "stdout",
     "output_type": "stream",
     "text": [
      "Fitting 10 folds for each of 100 candidates, totalling 1000 fits\n",
      "Fitting 10 folds for each of 100 candidates, totalling 1000 fits\n"
     ]
    }
   ],
   "source": [
    "# Instance Logreg\n",
    "logreg_rand_us = LogisticRegression(random_state=RANDOM_STATE)\n",
    "logreg_rand_ds = LogisticRegression(random_state=RANDOM_STATE)\n",
    "\n",
    "# Assembling parameter grid for randomized grid search\n",
    "param_grid_logreg_rand = {\n",
    "    'solver': ['newton-cg', 'lbfgs', 'liblinear'],\n",
    "    'penalty': ['l2'],\n",
    "    'C': [1000, 100, 10, 1.0, 0.1, 0.01],\n",
    "    'max_iter': [i for i in range(100,6001,100)]\n",
    "    }\n",
    "\n",
    "# Instance random search upsampled\n",
    "logreg_rand_cv_us = RandomizedSearchCV(estimator=logreg_rand_us, \n",
    "                                     param_distributions=param_grid_logreg_rand,\n",
    "                                     n_iter=100,\n",
    "                                     scoring='f1',\n",
    "                                     cv=10,\n",
    "                                     verbose=2,\n",
    "                                     random_state=RANDOM_STATE,\n",
    "                                     n_jobs=-1,\n",
    "                                     return_train_score=True)\n",
    "# Instance random search downsampled\n",
    "logreg_rand_cv_ds = RandomizedSearchCV(estimator=logreg_rand_us, \n",
    "                                     param_distributions=param_grid_logreg_rand,\n",
    "                                     n_iter=100,\n",
    "                                     scoring='f1',\n",
    "                                     cv=10,\n",
    "                                     verbose=2,\n",
    "                                     random_state=RANDOM_STATE,\n",
    "                                     n_jobs=-1,\n",
    "                                     return_train_score=True)\n",
    "\n",
    "logreg_rand_cv_us.fit(X_train_us, y_train_us);\n",
    "logreg_rand_cv_ds.fit(X_train_ds, y_train_ds);"
   ]
  },
  {
   "cell_type": "code",
   "execution_count": 57,
   "id": "combined-uganda",
   "metadata": {},
   "outputs": [
    {
     "name": "stdout",
     "output_type": "stream",
     "text": [
      "Benchmarking standard model upsampled: 0.7003376245052424\n",
      "Best random search model upsampled: 0.5035842293906809\n"
     ]
    }
   ],
   "source": [
    "# Caclulating accuracy of random result upsampled\n",
    "predict_logreg_rand_us = logreg_rand_cv_us.best_estimator_.predict(X_test)\n",
    "acc_logreg_rand_us = f1_score(y_test, predict_logreg_rand_us)\n",
    "print('Benchmarking standard model upsampled:', ref_f1_logreg_us)\n",
    "print('Best random search model upsampled:', acc_logreg_rand_us)"
   ]
  },
  {
   "cell_type": "code",
   "execution_count": 58,
   "id": "floating-socket",
   "metadata": {},
   "outputs": [
    {
     "name": "stdout",
     "output_type": "stream",
     "text": [
      "Benchmarking standard model upsampled: 0.7050835779761424\n",
      "Best random search model upsampled: 0.5045372050816697\n"
     ]
    }
   ],
   "source": [
    "# Caclulating accuracy of random result upsampled\n",
    "predict_logreg_rand_ds = logreg_rand_cv_ds.best_estimator_.predict(X_test)\n",
    "acc_logreg_rand_ds = f1_score(y_test, predict_logreg_rand_ds)\n",
    "print('Benchmarking standard model upsampled:', ref_f1_logreg_ds)\n",
    "print('Best random search model upsampled:', acc_logreg_rand_ds)"
   ]
  },
  {
   "cell_type": "markdown",
   "id": "isolated-interval",
   "metadata": {},
   "source": [
    "> **Observation:**\n",
    "> - Model quality did improve slightly slightly"
   ]
  },
  {
   "cell_type": "markdown",
   "id": "assumed-contact",
   "metadata": {},
   "source": [
    "#### 4.2.1.2. Grid search with cv\n",
    "> In this step a gridsearch has been carried out based on the results of the random grid search.  \n",
    "> Therefore a range of hyperparameters around the determined ones using the random grid search have been choosen."
   ]
  },
  {
   "cell_type": "code",
   "execution_count": 59,
   "id": "selected-thousand",
   "metadata": {},
   "outputs": [
    {
     "data": {
      "text/plain": [
       "LogisticRegression(C=0.01, max_iter=5100, random_state=42)"
      ]
     },
     "execution_count": 59,
     "metadata": {},
     "output_type": "execute_result"
    }
   ],
   "source": [
    "# Investigating params for defining grid search upsampled\n",
    "logreg_rand_cv_us.best_estimator_"
   ]
  },
  {
   "cell_type": "code",
   "execution_count": 60,
   "id": "cutting-earthquake",
   "metadata": {},
   "outputs": [
    {
     "data": {
      "text/plain": [
       "LogisticRegression(C=0.01, max_iter=5100, random_state=42)"
      ]
     },
     "execution_count": 60,
     "metadata": {},
     "output_type": "execute_result"
    }
   ],
   "source": [
    "# Investigating params for defining grid search downsampled\n",
    "logreg_rand_cv_ds.best_estimator_"
   ]
  },
  {
   "cell_type": "code",
   "execution_count": 61,
   "id": "lonely-removal",
   "metadata": {},
   "outputs": [
    {
     "name": "stdout",
     "output_type": "stream",
     "text": [
      "Fitting 10 folds for each of 25 candidates, totalling 250 fits\n",
      "Fitting 10 folds for each of 25 candidates, totalling 250 fits\n"
     ]
    }
   ],
   "source": [
    "# Init model\n",
    "logreg_search_us = LogisticRegression(random_state=RANDOM_STATE)\n",
    "logreg_search_ds = LogisticRegression(random_state=RANDOM_STATE)\n",
    "\n",
    "# Assemble param grid\n",
    "param_grid= {\n",
    "    'solver': ['lbfgs'],\n",
    "    'penalty': ['l2'],\n",
    "    'C': [0.001, 0.005, 0.01, 0.015, 0.02],\n",
    "    'max_iter': [i for i in range(4600,5601,250)]\n",
    "    }\n",
    "\n",
    "# define grid search\n",
    "logreg_search_cv_us = GridSearchCV(estimator=logreg_search_us,\n",
    "                                param_grid=param_grid,\n",
    "                                n_jobs=-1,\n",
    "                                cv=10,\n",
    "                                scoring='f1',\n",
    "                                verbose=2,\n",
    "                                error_score=0)\n",
    "# define grid search\n",
    "logreg_search_cv_ds = GridSearchCV(estimator=logreg_search_ds,\n",
    "                                param_grid=param_grid,\n",
    "                                n_jobs=-1,\n",
    "                                cv=10,\n",
    "                                scoring='f1',\n",
    "                                verbose=2,\n",
    "                                error_score=0)\n",
    "\n",
    "# Train gridsearch\n",
    "logreg_search_cv_us.fit(X_train_us, y_train_us);\n",
    "logreg_search_cv_ds.fit(X_train_ds, y_train_ds);"
   ]
  },
  {
   "cell_type": "code",
   "execution_count": 62,
   "id": "diagnostic-trout",
   "metadata": {},
   "outputs": [
    {
     "name": "stdout",
     "output_type": "stream",
     "text": [
      "LogisticRegression(C=0.01, max_iter=5100, random_state=42)\n",
      "Best gridsearch f1 score upsampled: 0.511669658886894\n",
      "Benchmarking standard model upsampled: 0.7003376245052424\n"
     ]
    }
   ],
   "source": [
    "# Caclulating accuracy of search result\n",
    "predict_logreg_search_us = logreg_search_cv_us.best_estimator_.predict(X_test)\n",
    "acc_logreg_search_us = f1_score(y_test, predict_logreg_search_us)\n",
    "print(logreg_rand_cv_us.best_estimator_)\n",
    "\n",
    "print('Best gridsearch f1 score upsampled:', acc_logreg_search_us)\n",
    "print('Benchmarking standard model upsampled:', ref_f1_logreg_us)"
   ]
  },
  {
   "cell_type": "code",
   "execution_count": 63,
   "id": "parental-statement",
   "metadata": {},
   "outputs": [
    {
     "name": "stdout",
     "output_type": "stream",
     "text": [
      "LogisticRegression(C=0.01, max_iter=5100, random_state=42)\n",
      "Best gridsearch f1 score downsampled: 0.5022583559168925\n",
      "Benchmarking standard model downsampled: 0.7050835779761424\n"
     ]
    }
   ],
   "source": [
    "# Caclulating accuracy of search result\n",
    "predict_logreg_search_ds = logreg_search_cv_ds.best_estimator_.predict(X_test)\n",
    "acc_logreg_search_ds = f1_score(y_test, predict_logreg_search_ds)\n",
    "print(logreg_rand_cv_ds.best_estimator_)\n",
    "\n",
    "print('Best gridsearch f1 score downsampled:', acc_logreg_search_ds)\n",
    "print('Benchmarking standard model downsampled:', ref_f1_logreg_ds)"
   ]
  },
  {
   "cell_type": "markdown",
   "id": "above-jimmy",
   "metadata": {},
   "source": [
    "> **Observations:**\n",
    "> - hyperparam tuning did not increase the model quality slightly for upsampled data\n",
    "> - hyperparameter tuning decreased model quality slightly for downsampled data\n",
    "> - Parameter of best model in gridsearch are in the middle so no further iteration needed"
   ]
  },
  {
   "cell_type": "markdown",
   "id": "framed-robin",
   "metadata": {},
   "source": [
    "#### 4.2.1.3. Threshold adjustments\n",
    "> In this chapter the influence of the thresholds onto the model quality has been investigated."
   ]
  },
  {
   "cell_type": "markdown",
   "id": "respective-focus",
   "metadata": {},
   "source": [
    "##### 4.2.1.3.1. Threshold adjustment upsampled"
   ]
  },
  {
   "cell_type": "code",
   "execution_count": 64,
   "id": "outstanding-legend",
   "metadata": {},
   "outputs": [],
   "source": [
    "# Investigate Propabilities\n",
    "model_th_us = logreg_search_cv_us.best_estimator_\n",
    "propas_us = model_th_us.predict_proba(X_train)\n",
    "propas_ones_us = propas_us[:, 1]"
   ]
  },
  {
   "cell_type": "code",
   "execution_count": 65,
   "id": "initial-offense",
   "metadata": {},
   "outputs": [
    {
     "name": "stdout",
     "output_type": "stream",
     "text": [
      "Threshold = 0.30 | Precision = 0.375\n",
      "Threshold = 0.35 | Precision = 0.402\n",
      "Threshold = 0.40 | Precision = 0.441\n",
      "Threshold = 0.45 | Precision = 0.476\n",
      "Threshold = 0.50 | Precision = 0.506\n",
      "Threshold = 0.55 | Precision = 0.497\n",
      "Threshold = 0.60 | Precision = 0.455\n",
      "Threshold = 0.65 | Precision = 0.373\n",
      "Threshold = 0.70 | Precision = 0.273\n",
      "Threshold = 0.75 | Precision = 0.168\n"
     ]
    }
   ],
   "source": [
    "for threshold in np.arange(0.3, 0.8, 0.05):\n",
    "    predicted_valid = propas_ones_us > threshold \n",
    "    f1_sco = f1_score(y_train, predicted_valid)\n",
    "    print('Threshold = {:.2f} | Precision = {:.3f}'.format(threshold, f1_sco))"
   ]
  },
  {
   "cell_type": "code",
   "execution_count": 66,
   "id": "green-bride",
   "metadata": {},
   "outputs": [
    {
     "name": "stdout",
     "output_type": "stream",
     "text": [
      "Threshold = 0.45 | Precision = 0.476\n",
      "Threshold = 0.46 | Precision = 0.485\n",
      "Threshold = 0.47 | Precision = 0.491\n",
      "Threshold = 0.48 | Precision = 0.493\n",
      "Threshold = 0.49 | Precision = 0.497\n",
      "Threshold = 0.50 | Precision = 0.506\n",
      "Threshold = 0.51 | Precision = 0.505\n",
      "Threshold = 0.52 | Precision = 0.509\n",
      "Threshold = 0.53 | Precision = 0.502\n",
      "Threshold = 0.54 | Precision = 0.501\n",
      "Threshold = 0.55 | Precision = 0.497\n"
     ]
    }
   ],
   "source": [
    "for threshold in np.arange(0.45, 0.55, 0.01):\n",
    "    predicted_valid = propas_ones_us > threshold \n",
    "    f1_sco = f1_score(y_train, predicted_valid)\n",
    "    print('Threshold = {:.2f} | Precision = {:.3f}'.format(threshold, f1_sco))"
   ]
  },
  {
   "cell_type": "code",
   "execution_count": 67,
   "id": "ignored-growing",
   "metadata": {},
   "outputs": [
    {
     "name": "stdout",
     "output_type": "stream",
     "text": [
      "Best gridsearch f1 score upsampled: 0.511669658886894\n"
     ]
    }
   ],
   "source": [
    "print('Best gridsearch f1 score upsampled:', acc_logreg_search_us)"
   ]
  },
  {
   "cell_type": "markdown",
   "id": "local-phenomenon",
   "metadata": {},
   "source": [
    "> **Observation:**\n",
    "> - Model quality could be improved around 0.3% with the risk of overfitting and has not been carried out."
   ]
  },
  {
   "cell_type": "code",
   "execution_count": 68,
   "id": "revolutionary-convenience",
   "metadata": {},
   "outputs": [
    {
     "name": "stdout",
     "output_type": "stream",
     "text": [
      "ROC - AUC score: 0.7812464868237086\n"
     ]
    }
   ],
   "source": [
    "# Investigate AUC ROC\n",
    "model_th_us = logreg_search_cv_us.best_estimator_\n",
    "propas_us = model_th_us.predict_proba(X_test)\n",
    "propas_ones_us = propas_us[:, 1]\n",
    "\n",
    "auc_roc_us = roc_auc_score(y_test, propas_ones_us)\n",
    "print('ROC - AUC score:', auc_roc_us)"
   ]
  },
  {
   "cell_type": "code",
   "execution_count": 69,
   "id": "pacific-black",
   "metadata": {},
   "outputs": [
    {
     "data": {
      "image/png": "[encoded data removed]",
      "text/plain": [
       "<Figure size 432x288 with 1 Axes>"
      ]
     },
     "metadata": {
      "needs_background": "light"
     },
     "output_type": "display_data"
    }
   ],
   "source": [
    "# Plotting curve\n",
    "fpr, tpr, thresholds = roc_curve(y_test, propas_ones_us) \n",
    "\n",
    "plt.figure()\n",
    "plt.plot(fpr, tpr,linestyle='-',linewidth=2,)\n",
    "\n",
    "# ROC curve for random model (looks like a straight line)\n",
    "plt.plot([0, 1], [0, 1], linestyle='-')\n",
    "\n",
    "plt.xlim([0.0, 1.0])\n",
    "plt.ylim([0.0, 1.0])\n",
    "plt.xlabel('False Positive Rate')\n",
    "plt.ylabel('True Positive Rate')\n",
    "plt.title('ROC curve upsampled')\n",
    "\n",
    "plt.show()"
   ]
  },
  {
   "cell_type": "markdown",
   "id": "violent-algeria",
   "metadata": {},
   "source": [
    "> **Observations:**\n",
    "> - The model is still a model of good quality because above linear model and auc roc score of 78.12% and above the standard model"
   ]
  },
  {
   "cell_type": "markdown",
   "id": "variable-diving",
   "metadata": {},
   "source": [
    "##### 4.2.1.3.2. Threshold adjustment downsampled"
   ]
  },
  {
   "cell_type": "code",
   "execution_count": 70,
   "id": "short-immune",
   "metadata": {},
   "outputs": [],
   "source": [
    "# Investigate Propabilities\n",
    "model_th_ds = logreg_search_cv_ds.best_estimator_\n",
    "propas_ds = model_th_ds.predict_proba(X_train)\n",
    "propas_ones_ds = propas_ds[:, 1]"
   ]
  },
  {
   "cell_type": "code",
   "execution_count": 71,
   "id": "loaded-robert",
   "metadata": {},
   "outputs": [
    {
     "name": "stdout",
     "output_type": "stream",
     "text": [
      "Threshold = 0.30 | Precision = 0.404\n",
      "Threshold = 0.35 | Precision = 0.432\n",
      "Threshold = 0.40 | Precision = 0.463\n",
      "Threshold = 0.45 | Precision = 0.487\n",
      "Threshold = 0.50 | Precision = 0.506\n",
      "Threshold = 0.55 | Precision = 0.506\n",
      "Threshold = 0.60 | Precision = 0.484\n",
      "Threshold = 0.65 | Precision = 0.450\n",
      "Threshold = 0.70 | Precision = 0.398\n",
      "Threshold = 0.75 | Precision = 0.318\n"
     ]
    }
   ],
   "source": [
    "for threshold in np.arange(0.3, 0.8, 0.05):\n",
    "    predicted_valid = propas_ones_ds > threshold \n",
    "    f1_sco = f1_score(y_train, predicted_valid)\n",
    "    print('Threshold = {:.2f} | Precision = {:.3f}'.format(threshold, f1_sco))\n",
    "    "
   ]
  },
  {
   "cell_type": "code",
   "execution_count": 72,
   "id": "classified-zimbabwe",
   "metadata": {},
   "outputs": [
    {
     "name": "stdout",
     "output_type": "stream",
     "text": [
      "Threshold = 0.50 | Precision = 0.506\n",
      "Threshold = 0.51 | Precision = 0.512\n",
      "Threshold = 0.52 | Precision = 0.514\n",
      "Threshold = 0.53 | Precision = 0.509\n",
      "Threshold = 0.54 | Precision = 0.506\n",
      "Threshold = 0.55 | Precision = 0.506\n",
      "Threshold = 0.56 | Precision = 0.504\n",
      "Threshold = 0.57 | Precision = 0.504\n",
      "Threshold = 0.58 | Precision = 0.497\n",
      "Threshold = 0.59 | Precision = 0.489\n"
     ]
    }
   ],
   "source": [
    "f1_sct_ds = []\n",
    "for threshold in np.arange(0.5, 0.6, 0.01):\n",
    "    predicted_valid = propas_ones_ds > threshold \n",
    "    f1_sco = f1_score(y_train, predicted_valid)\n",
    "    print('Threshold = {:.2f} | Precision = {:.3f}'.format(threshold, f1_sco))\n",
    "    f1_sct_ds.append(f1_sco)"
   ]
  },
  {
   "cell_type": "code",
   "execution_count": 73,
   "id": "empirical-brush",
   "metadata": {},
   "outputs": [
    {
     "name": "stdout",
     "output_type": "stream",
     "text": [
      "Best gridsearch f1 score downsampled: 0.5022583559168925\n",
      "possible improvement: 0.012147828201167887\n"
     ]
    }
   ],
   "source": [
    "print('Best gridsearch f1 score downsampled:', acc_logreg_search_ds)\n",
    "print('possible improvement:', max(f1_sct_ds) - acc_logreg_search_ds)"
   ]
  },
  {
   "cell_type": "markdown",
   "id": "unexpected-modem",
   "metadata": {},
   "source": [
    "> **Observation:**  \n",
    "> The model qualit could be improved by an other 1.2% with the risk of overfitting to the testset because the threshold adjustment would have been carried out on the testset.  \n",
    "> Due to the fact that even with that improvement, the best model with 52.2% f1 score would be below the threshold, the adjustment has nott been carried out"
   ]
  },
  {
   "cell_type": "code",
   "execution_count": 74,
   "id": "unlimited-facing",
   "metadata": {},
   "outputs": [
    {
     "name": "stdout",
     "output_type": "stream",
     "text": [
      "ROC - AUC score: 0.7826145473603874\n"
     ]
    }
   ],
   "source": [
    "# Investigate AUC ROC\n",
    "model_th_ds = logreg_search_cv_ds.best_estimator_\n",
    "propas_ds = model_th_ds.predict_proba(X_test)\n",
    "propas_ones_ds = propas_ds[:, 1]\n",
    "\n",
    "auc_roc_ds = roc_auc_score(y_test, propas_ones_ds)\n",
    "print('ROC - AUC score:', auc_roc_ds)"
   ]
  },
  {
   "cell_type": "code",
   "execution_count": 75,
   "id": "complex-marsh",
   "metadata": {},
   "outputs": [
    {
     "data": {
      "image/png": "[encoded data removed]",
      "text/plain": [
       "<Figure size 432x288 with 1 Axes>"
      ]
     },
     "metadata": {
      "needs_background": "light"
     },
     "output_type": "display_data"
    }
   ],
   "source": [
    "# Plotting curve\n",
    "fpr, tpr, thresholds = roc_curve(y_test, propas_ones_ds) \n",
    "\n",
    "plt.figure()\n",
    "plt.plot(fpr, tpr,linestyle='-',linewidth=4,)\n",
    "\n",
    "# ROC curve for random model (looks like a straight line)\n",
    "plt.plot([0, 1], [0, 1], linestyle='-')\n",
    "\n",
    "plt.xlim([0.0, 1.0])\n",
    "plt.ylim([0.0, 1.0])\n",
    "plt.xlabel('False Positive Rate')\n",
    "plt.ylabel('True Positive Rate')\n",
    "plt.title('ROC curve downsampled')\n",
    "\n",
    "plt.show()"
   ]
  },
  {
   "cell_type": "markdown",
   "id": "dental-conditioning",
   "metadata": {},
   "source": [
    "> **Observation:**\n",
    "> - Model is still of better quality than the reference model and a Roc Auch score of 78.26%\n",
    "> - Logistic regression has slightly higer quality with the downsampled training set than with the upsampled dataset."
   ]
  },
  {
   "cell_type": "markdown",
   "id": "organizational-flower",
   "metadata": {},
   "source": [
    "### 4.2.2. Random Forest\n",
    "> In this chapter the classification task has been carried out using random forests and both, upsampled and downsampled dataset.  \n",
    "> Therefore the following steps have been done in order to determine a good set of hyperparameter systematically:\n",
    "> 1. Generating standard model for benchmarking\n",
    "> 2. Tuning hyper parameter  \n",
    ">     2.1. Randomized search (RandomizedSearchCV) for getting first range of good params  \n",
    ">     2.2. Grid search (GridSearchCV) in the range of results of gird search\n",
    "> 3. visualizing results(Runtime, accuracy)"
   ]
  },
  {
   "cell_type": "code",
   "execution_count": 76,
   "id": "purple-configuration",
   "metadata": {},
   "outputs": [
    {
     "name": "stdout",
     "output_type": "stream",
     "text": [
      "Benchmarking standard model upsampled: 0.9526125959146304\n",
      "Benchmarking standard model downsampled: 0.7545421902807641\n"
     ]
    }
   ],
   "source": [
    "# Benchmarking standard model upsampled\n",
    "ref_rfc_us = RandomForestClassifier(random_state=RANDOM_STATE)\n",
    "ref_f1_rfc_us = np.mean(cross_val_score(ref_rfc_us, X_train_us, y_train_us, scoring='f1'))\n",
    "print('Benchmarking standard model upsampled:', ref_f1_rfc_us)\n",
    "\n",
    "# Benchmarking standard model downsampled\n",
    "ref_rfc_ds = RandomForestClassifier(random_state=RANDOM_STATE)\n",
    "ref_f1_rfc_ds = np.mean(cross_val_score(ref_rfc_ds, X_train_ds, y_train_ds, scoring='f1'))\n",
    "print('Benchmarking standard model downsampled:', ref_f1_rfc_ds)"
   ]
  },
  {
   "cell_type": "markdown",
   "id": "convinced-forum",
   "metadata": {},
   "source": [
    "#### 4.2.2.1. Randomized grid search\n",
    "> In this chapter the randomized grid search has been carried out to get a first estimation for the range of good parameters within hyper parameter tuning.   \n",
    "\n",
    "> The following paramters have been tuned:\n",
    "> - max_features\n",
    "> - n_estimators\n",
    "> - max_depth\n",
    "> - min_sample_split\n",
    "> - min_sample_leaf"
   ]
  },
  {
   "cell_type": "code",
   "execution_count": 77,
   "id": "western-justice",
   "metadata": {},
   "outputs": [],
   "source": [
    "# Aggregating random grid for both rand grid searches\n",
    "n_estimators = [int(x) for x in np.linspace(start = 10, stop = 1000, num = 10)]\n",
    "max_features = ['auto', 'sqrt', 'log2']\n",
    "max_depth = [int(x) for x in np.linspace(10, 110, num = 11)]\n",
    "max_depth.append(None)\n",
    "min_samples_split = [2, 5, 10]\n",
    "min_samples_leaf = [1, 2, 4]\n",
    "bootstrap = [True, False]\n",
    "criterion = ['gini', 'entropy']\n",
    "\n",
    "# Create the random grid with selected arguments\n",
    "random_grid = {'n_estimators': n_estimators,\n",
    "               'max_features': max_features,\n",
    "               'max_depth': max_depth,\n",
    "               'min_samples_split': min_samples_split,\n",
    "               'criterion': criterion,\n",
    "               'min_samples_leaf': min_samples_leaf,\n",
    "               'bootstrap': bootstrap}"
   ]
  },
  {
   "cell_type": "code",
   "execution_count": 78,
   "id": "cardiovascular-departure",
   "metadata": {},
   "outputs": [
    {
     "name": "stdout",
     "output_type": "stream",
     "text": [
      "Fitting 5 folds for each of 100 candidates, totalling 500 fits\n",
      "Fitting 5 folds for each of 100 candidates, totalling 500 fits\n"
     ]
    }
   ],
   "source": [
    "# Instancing and carrying out grid search upsampled /downsampled\n",
    "rfc_rand_us = RandomForestClassifier(random_state=RANDOM_STATE)\n",
    "rfc_rand_ds = RandomForestClassifier(random_state=RANDOM_STATE)\n",
    "\n",
    "rfc_random_us = RandomizedSearchCV(estimator=rfc_rand_us, \n",
    "                                 param_distributions=random_grid,\n",
    "                                 n_iter=100,\n",
    "                                 scoring='f1',\n",
    "                                 cv=5,\n",
    "                                 verbose=2,\n",
    "                                 random_state=RANDOM_STATE,\n",
    "                                 n_jobs=-1,\n",
    "                                 return_train_score=True)\n",
    "\n",
    "rfc_random_ds = RandomizedSearchCV(estimator=rfc_rand_ds, \n",
    "                                 param_distributions=random_grid,\n",
    "                                 n_iter=100,\n",
    "                                 scoring='f1',\n",
    "                                 cv=5,\n",
    "                                 verbose=2,\n",
    "                                 random_state=RANDOM_STATE,\n",
    "                                 n_jobs=-1,\n",
    "                                 return_train_score=True)\n",
    "\n",
    "rfc_random_us.fit(X_train_us, y_train_us);\n",
    "rfc_random_ds.fit(X_train_ds, y_train_ds);"
   ]
  },
  {
   "cell_type": "markdown",
   "id": "muslim-brazilian",
   "metadata": {},
   "source": [
    "> **Adjust evaluation for us and ds**"
   ]
  },
  {
   "cell_type": "code",
   "execution_count": 79,
   "id": "native-survivor",
   "metadata": {},
   "outputs": [
    {
     "name": "stdout",
     "output_type": "stream",
     "text": [
      "Best randsearch score on downsampled data: 0.7643577782400937\n",
      "Benchmarking standard model downsampled: 0.7545421902807641\n"
     ]
    }
   ],
   "source": [
    "print('Best randsearch score on downsampled data:', rfc_random_ds.best_score_)\n",
    "print('Benchmarking standard model downsampled:', ref_f1_rfc_ds)"
   ]
  },
  {
   "cell_type": "code",
   "execution_count": 80,
   "id": "foreign-litigation",
   "metadata": {},
   "outputs": [
    {
     "name": "stdout",
     "output_type": "stream",
     "text": [
      "Best randsearch score on testdata upsampled: 0.9642122144245917\n",
      "Benchmarking standard model upsampled: 0.9526125959146304\n"
     ]
    }
   ],
   "source": [
    "print('Best randsearch score on testdata upsampled:', rfc_random_us.best_score_)\n",
    "print('Benchmarking standard model upsampled:', ref_f1_rfc_us)"
   ]
  },
  {
   "cell_type": "markdown",
   "id": "excess-frame",
   "metadata": {},
   "source": [
    "> **Observation:**\n",
    "> - The model quality has been improved by around 2% by carrying out the grid search.\n",
    "> - Tuning the hyperparameter in the are of the found ones will show if the quality could be improved even more.\n",
    "> - The downsampled model already reaches the quality threshold of 59%"
   ]
  },
  {
   "cell_type": "markdown",
   "id": "mental-magnet",
   "metadata": {},
   "source": [
    "#### 4.2.2.2. Grid search \n",
    "> In this step a gridsearch has been carried out based on the results of the random grid search.  \n",
    "> Therefore a range of hyperparameters around the determined ones using the random grid search have been choosen."
   ]
  },
  {
   "cell_type": "code",
   "execution_count": 81,
   "id": "cellular-devil",
   "metadata": {},
   "outputs": [
    {
     "data": {
      "text/plain": [
       "RandomForestClassifier(max_depth=10, max_features='sqrt', min_samples_leaf=4,\n",
       "                       min_samples_split=5, n_estimators=120, random_state=42)"
      ]
     },
     "execution_count": 81,
     "metadata": {},
     "output_type": "execute_result"
    }
   ],
   "source": [
    "# Investigating best estimator for assembling grid downsampled data\n",
    "rfc_random_ds.best_estimator_"
   ]
  },
  {
   "cell_type": "code",
   "execution_count": 82,
   "id": "dated-shark",
   "metadata": {},
   "outputs": [],
   "source": [
    "# Assembling grid, Elements described in previous chapter\n",
    "param_grid_search_ds = { \n",
    "    'bootstrap': [True],\n",
    "    'criterion' :['gini'],\n",
    "    'max_depth' : [35, 37, 40, 42, 45],\n",
    "    'max_features': ['log2'],\n",
    "    'min_samples_leaf': [1, 2],\n",
    "    'min_samples_split' : [11, 10, 12],\n",
    "    'n_estimators': [540, 560, 580]   \n",
    "}"
   ]
  },
  {
   "cell_type": "code",
   "execution_count": 83,
   "id": "outside-charity",
   "metadata": {},
   "outputs": [
    {
     "data": {
      "text/plain": [
       "RandomForestClassifier(bootstrap=False, max_depth=110, max_features='sqrt',\n",
       "                       n_estimators=450, random_state=42)"
      ]
     },
     "execution_count": 83,
     "metadata": {},
     "output_type": "execute_result"
    }
   ],
   "source": [
    "# Investigating best estimator for assembling grid upsampled data\n",
    "rfc_random_us.best_estimator_"
   ]
  },
  {
   "cell_type": "code",
   "execution_count": 84,
   "id": "suited-phrase",
   "metadata": {},
   "outputs": [],
   "source": [
    "# Assembling grid, Elements described in previous chapter\n",
    "param_grid_search_us = { \n",
    "    'bootstrap': [False],\n",
    "    'criterion' :['gini'],\n",
    "    'max_depth' : [100, 110, 120],\n",
    "    'max_features': ['sqrt'],\n",
    "    'min_samples_leaf': [1, 2],\n",
    "    'min_samples_split' : [1, 2, 3],\n",
    "    'n_estimators': [425, 450, 475]\n",
    "}"
   ]
  },
  {
   "cell_type": "code",
   "execution_count": 85,
   "id": "medieval-nature",
   "metadata": {},
   "outputs": [
    {
     "name": "stdout",
     "output_type": "stream",
     "text": [
      "Fitting 5 folds for each of 54 candidates, totalling 270 fits\n",
      "Fitting 5 folds for each of 90 candidates, totalling 450 fits\n"
     ]
    }
   ],
   "source": [
    "# Instance GridSearchCV for version with criterion\n",
    "rfc_grid_us = RandomForestClassifier(random_state=RANDOM_STATE)\n",
    "rfc_grid_ds = RandomForestClassifier(random_state=RANDOM_STATE)\n",
    "\n",
    "rfc_search_us = GridSearchCV(estimator=rfc_grid_us,\n",
    "                          param_grid=param_grid_search_us,\n",
    "                          n_jobs=-1,\n",
    "                          cv=5,\n",
    "                          scoring='f1',\n",
    "                          error_score=0,\n",
    "                          verbose=2,\n",
    "                          return_train_score=True)\n",
    "\n",
    "rfc_search_ds = GridSearchCV(estimator=rfc_grid_ds,\n",
    "                          param_grid=param_grid_search_ds,\n",
    "                          n_jobs=-1,\n",
    "                          cv=5,\n",
    "                          scoring='f1',\n",
    "                          error_score=0,\n",
    "                          verbose=2,\n",
    "                          return_train_score=True)\n",
    "\n",
    "rfc_search_us.fit(X_train_us, y_train_us);\n",
    "rfc_search_ds.fit(X_train_ds, y_train_ds);"
   ]
  },
  {
   "cell_type": "code",
   "execution_count": 87,
   "id": "round-concern",
   "metadata": {},
   "outputs": [
    {
     "data": {
      "text/plain": [
       "RandomForestClassifier(max_depth=35, max_features='log2', min_samples_leaf=2,\n",
       "                       min_samples_split=12, n_estimators=580, random_state=42)"
      ]
     },
     "execution_count": 87,
     "metadata": {},
     "output_type": "execute_result"
    }
   ],
   "source": [
    "rfc_search_ds.best_estimator_"
   ]
  },
  {
   "cell_type": "code",
   "execution_count": 88,
   "id": "cellular-worst",
   "metadata": {},
   "outputs": [
    {
     "name": "stdout",
     "output_type": "stream",
     "text": [
      "ROC - AUC score: 0.8642405759788204\n"
     ]
    },
    {
     "data": {
      "image/png": "[encoded data removed]",
      "text/plain": [
       "<Figure size 432x288 with 1 Axes>"
      ]
     },
     "metadata": {
      "needs_background": "light"
     },
     "output_type": "display_data"
    }
   ],
   "source": [
    "# Check ROC-AUC Curve\n",
    "propas_test_ds = rfc_random_ds.best_estimator_.predict_proba(X_test)\n",
    "probabilities_one_test_ds = propas_test_ds[:, 1]\n",
    "auc_roc_ds = roc_auc_score(y_test, probabilities_one_test_ds)\n",
    "print('ROC - AUC score:', auc_roc_ds)\n",
    "\n",
    "# Plotting curve\n",
    "fpr, tpr, thresholds = roc_curve(y_test, probabilities_one_test_ds) \n",
    "\n",
    "plt.figure()\n",
    "plt.plot(fpr, tpr,linestyle='-',linewidth=2,)\n",
    "\n",
    "# ROC curve for random model (looks like a straight line)\n",
    "plt.plot([0, 1], [0, 1], linestyle='-')\n",
    "\n",
    "plt.xlim([0.0, 1.0])\n",
    "plt.ylim([0.0, 1.0])\n",
    "plt.xlabel('False Positive Rate')\n",
    "plt.ylabel('True Positive Rate')\n",
    "plt.title('ROC curve Random forest with downsampled data')\n",
    "\n",
    "plt.show()"
   ]
  },
  {
   "cell_type": "markdown",
   "id": "incoming-daughter",
   "metadata": {},
   "source": [
    "> **Observations:**\n",
    "> - Model quality at 60.3% on thest data\n",
    "> - High model quality due to ROC curve and ROC AUC score of 86.36%\n",
    "> - Gridsearch did not improve the model quality for the testset"
   ]
  },
  {
   "cell_type": "code",
   "execution_count": 92,
   "id": "rolled-router",
   "metadata": {},
   "outputs": [
    {
     "data": {
      "text/plain": [
       "RandomForestClassifier(bootstrap=False, max_depth=110, max_features='sqrt',\n",
       "                       n_estimators=450, random_state=42)"
      ]
     },
     "execution_count": 92,
     "metadata": {},
     "output_type": "execute_result"
    }
   ],
   "source": [
    "rfc_random_us.best_estimator_"
   ]
  },
  {
   "cell_type": "code",
   "execution_count": 93,
   "id": "posted-apollo",
   "metadata": {},
   "outputs": [
    {
     "name": "stdout",
     "output_type": "stream",
     "text": [
      "ROC - AUC score: 0.8517847331411083\n"
     ]
    },
    {
     "data": {
      "image/png": "[encoded data removed]",
      "text/plain": [
       "<Figure size 432x288 with 1 Axes>"
      ]
     },
     "metadata": {
      "needs_background": "light"
     },
     "output_type": "display_data"
    }
   ],
   "source": [
    "# Check ROC-AUC Curve\n",
    "propas_test_us = rfc_random_us.best_estimator_.predict_proba(X_test)\n",
    "probabilities_one_test_us = propas_test_us[:, 1]\n",
    "auc_roc_us = roc_auc_score(y_test, probabilities_one_test_us)\n",
    "print('ROC - AUC score:', auc_roc_us)\n",
    "\n",
    "# Plotting curve\n",
    "fpr, tpr, thresholds = roc_curve(y_test, probabilities_one_test_us) \n",
    "\n",
    "plt.figure()\n",
    "plt.plot(fpr, tpr,linestyle='-',linewidth=2,)\n",
    "\n",
    "# ROC curve for random model (looks like a straight line)\n",
    "plt.plot([0, 1], [0, 1], linestyle='-')\n",
    "\n",
    "plt.xlim([0.0, 1.0])\n",
    "plt.ylim([0.0, 1.0])\n",
    "plt.xlabel('False Positive Rate')\n",
    "plt.ylabel('True Positive Rate')\n",
    "plt.title('ROC curve Random forest with upsampled data')\n",
    "\n",
    "plt.show()"
   ]
  },
  {
   "cell_type": "markdown",
   "id": "heavy-rotation",
   "metadata": {},
   "source": [
    "> **Observations**\n",
    "> - The model trained with the upsampled data is of  high quality (ROC AUC with 85.17%) and an accuracy of 58.2% but still below the threshold.\n",
    "> - The training on the downsampled data was better than the one on the upsamled data\n",
    "> - Gridsearch did not improve the model quality\n",
    "> - Decision trees perform in this case way better than logistic regression"
   ]
  },
  {
   "cell_type": "markdown",
   "id": "comparable-spokesman",
   "metadata": {},
   "source": [
    "# 5. Conclution"
   ]
  },
  {
   "cell_type": "code",
   "execution_count": 95,
   "id": "extreme-family",
   "metadata": {},
   "outputs": [],
   "source": [
    "# Calculation of Benchmark scores\n",
    "predict_rfc_search_ds = rfc_search_ds.best_estimator_.predict(X_test)\n",
    "f1_rfc_search_ds = f1_score(y_test, predict_rfc_search_ds)\n",
    "\n",
    "predict_rfc_rand_us = rfc_random_us.best_estimator_.predict(X_test)\n",
    "f1_rfc_rand_us = f1_score(y_test, predict_rfc_rand_us)"
   ]
  },
  {
   "cell_type": "code",
   "execution_count": 96,
   "id": "absolute-legislature",
   "metadata": {},
   "outputs": [
    {
     "data": {
      "image/png": "[encoded data removed]",
      "text/plain": [
       "<Figure size 576x288 with 1 Axes>"
      ]
     },
     "metadata": {
      "needs_background": "light"
     },
     "output_type": "display_data"
    },
    {
     "data": {
      "image/png": "[encoded data removed]",
      "text/plain": [
       "<Figure size 576x288 with 1 Axes>"
      ]
     },
     "metadata": {
      "needs_background": "light"
     },
     "output_type": "display_data"
    }
   ],
   "source": [
    "rfc_conc = {\n",
    "            'standard imbalanced': rfc_standard_imbalanced_f1, \n",
    "            'standard_upsampled': rfc_standard_us_f1,\n",
    "            'standard downsampled': rfc_standard_ds_f1, \n",
    "            'tuned upsampled': f1_rfc_rand_us,\n",
    "            'tuned downsampled': f1_rfc_search_ds\n",
    "            }\n",
    "\n",
    "logreg_conc = {\n",
    "            'standard imbalanced': logreg_standard_imbalanced_f1, \n",
    "            'standard_upsampled': logreg_standard_us_f1,\n",
    "            'standard downsampled': logreg_standard_ds_f1, \n",
    "            'tuned upsampled': acc_logreg_rand_us,\n",
    "            'tuned downsampled': acc_logreg_rand_ds\n",
    "            }\n",
    "\n",
    "for tit, conc in zip(('rfcs', 'logregs'), (rfc_conc, logreg_conc)):\n",
    "    ax = pd.Series(conc).plot(kind='barh', figsize=(8,4))\n",
    "    ax.grid(True)\n",
    "    ax.set_title('Comparison of' + ' ' + tit + ' ' +'f1 scores')\n",
    "    ax.set_xlabel('f1 score')\n",
    "    plt.show()"
   ]
  },
  {
   "cell_type": "markdown",
   "id": "coated-oracle",
   "metadata": {},
   "source": [
    "- In this project two machine learning algorithms have been trained, a random forest and a logistic regression.\n",
    "- In final a model with an accuracy of around 61% has been developed by using random forests with the downsampled dataset\n",
    "- Random forests in general are better for this project (min 55%, logreg 50% tops an.)\n",
    "- For logistic regression the imbalances of the classes has a higer impact on the f1 score than for random forests (compare standard imbalanced model)\n",
    "- In order to train the model the following steps have been carried out before: \n",
    "    - Preprocessing\n",
    "        - Filling missing values\n",
    "        - Replace datatypes and column names\n",
    "        - Drop unnecessary columns\n",
    "        - Encode cathegorical features\n",
    "        - Scale numerical features (Except boolean ones)\n",
    "        - Investigate outliers and check if they need to be dropped or not  \n",
    "        - -> Talk to the data engineer if the 0 entries are legit or not\n",
    "    - Splitting the data\n",
    "    - Evaluate general expected performance of machine learning algorithms for this project by cross validation\n",
    "- Tuning the hyperparamerters increased the model accuracy of 2-3%"
   ]
  }
 ],
 "metadata": {
  "kernelspec": {
   "display_name": "Python 3",
   "language": "python",
   "name": "python3"
  },
  "language_info": {
   "codemirror_mode": {
    "name": "ipython",
    "version": 3
   },
   "file_extension": ".py",
   "mimetype": "text/x-python",
   "name": "python",
   "nbconvert_exporter": "python",
   "pygments_lexer": "ipython3",
   "version": "3.7.1"
  },
  "toc": {
   "base_numbering": 1,
   "nav_menu": {},
   "number_sections": true,
   "sideBar": true,
   "skip_h1_title": true,
   "title_cell": "Table of Contents",
   "title_sidebar": "Contents",
   "toc_cell": false,
   "toc_position": {},
   "toc_section_display": true,
   "toc_window_display": false
  }
 },
 "nbformat": 4,
 "nbformat_minor": 5
}
